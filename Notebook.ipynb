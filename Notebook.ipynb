{
 "cells": [
  {
   "cell_type": "code",
   "execution_count": 132,
   "metadata": {
    "id": "PGhIW6LjV2M9"
   },
   "outputs": [],
   "source": [
    "import pandas as pd\n",
    "import numpy as np\n",
    "import seaborn as sns\n",
    "import matplotlib.pyplot as plt\n",
    "import plotly.express as px\n",
    "import plotly.graph_objects as go\n",
    "from IPython.display import display\n",
    "import ipywidgets as widgets\n",
    "from ydata_profiling import ProfileReport\n",
    "from sklearn.preprocessing import MinMaxScaler\n",
    "from sklearn.cluster import KMeans\n",
    "from sklearn.metrics import silhouette_score\n",
    "from sklearn.metrics import calinski_harabasz_score, davies_bouldin_score\n",
    "from math import pi\n",
    "%matplotlib inline"
   ]
  },
  {
   "cell_type": "markdown",
   "metadata": {},
   "source": [
    "## Business Understanding"
   ]
  },
  {
   "cell_type": "markdown",
   "metadata": {},
   "source": [
    "The purpose of this analysis is to explore the Recency, Frequency, and Monetary factor of customer and to create RFM analysis from customer behaviour."
   ]
  },
  {
   "cell_type": "markdown",
   "metadata": {},
   "source": [
    "## Data Understanding"
   ]
  },
  {
   "cell_type": "markdown",
   "metadata": {},
   "source": [
    "There are few points:\n",
    "1. There are 24 missing data in customer Income.\n"
   ]
  },
  {
   "cell_type": "code",
   "execution_count": 133,
   "metadata": {
    "id": "L1r0DYwrWSu2"
   },
   "outputs": [],
   "source": [
    "# file import\n",
    "file_csv = \"1BP0pFZ6eff6RYYdq-RGKMdFBs5g9QWol\"\n",
    "file_metadata = \"1X34OvCX0LbwJEHZ7KFPSqQSZu5pz0xFt\"\n",
    "url_csv = f\"https://drive.google.com/uc?id={file_csv}\"\n",
    "url_metadata = f\"https://drive.google.com/uc?id={file_metadata}\"\n",
    "df = pd.read_csv(url_csv)\n",
    "metadata = pd.read_csv(url_metadata)"
   ]
  },
  {
   "cell_type": "code",
   "execution_count": 134,
   "metadata": {},
   "outputs": [],
   "source": [
    "# pp = ProfileReport(df, title= \"Data Understanding\")"
   ]
  },
  {
   "cell_type": "code",
   "execution_count": 135,
   "metadata": {
    "colab": {
     "base_uri": "https://localhost:8080/",
     "height": 452
    },
    "id": "77uiGAFgWgZ8",
    "outputId": "757fbd74-91db-46ac-f5eb-9b51309a5734"
   },
   "outputs": [
    {
     "data": {
      "text/html": [
       "<div>\n",
       "<style scoped>\n",
       "    .dataframe tbody tr th:only-of-type {\n",
       "        vertical-align: middle;\n",
       "    }\n",
       "\n",
       "    .dataframe tbody tr th {\n",
       "        vertical-align: top;\n",
       "    }\n",
       "\n",
       "    .dataframe thead th {\n",
       "        text-align: right;\n",
       "    }\n",
       "</style>\n",
       "<table border=\"1\" class=\"dataframe\">\n",
       "  <thead>\n",
       "    <tr style=\"text-align: right;\">\n",
       "      <th></th>\n",
       "      <th>ID</th>\n",
       "      <th>Year_Birth</th>\n",
       "      <th>Education</th>\n",
       "      <th>Marital_Status</th>\n",
       "      <th>Income</th>\n",
       "      <th>Kidhome</th>\n",
       "      <th>Teenhome</th>\n",
       "      <th>Dt_Customer</th>\n",
       "      <th>Recency</th>\n",
       "      <th>MntWines</th>\n",
       "      <th>MntFruits</th>\n",
       "      <th>MntMeatProducts</th>\n",
       "      <th>MntFishProducts</th>\n",
       "      <th>MntSweetProducts</th>\n",
       "      <th>MntGoldProds</th>\n",
       "      <th>NumDealsPurchases</th>\n",
       "      <th>NumWebPurchases</th>\n",
       "      <th>NumCatalogPurchases</th>\n",
       "      <th>NumStorePurchases</th>\n",
       "      <th>NumWebVisitsMonth</th>\n",
       "      <th>AcceptedCmp3</th>\n",
       "      <th>AcceptedCmp4</th>\n",
       "      <th>AcceptedCmp5</th>\n",
       "      <th>AcceptedCmp1</th>\n",
       "      <th>AcceptedCmp2</th>\n",
       "      <th>Response</th>\n",
       "      <th>Complain</th>\n",
       "      <th>Country</th>\n",
       "    </tr>\n",
       "  </thead>\n",
       "  <tbody>\n",
       "    <tr>\n",
       "      <th>1672</th>\n",
       "      <td>1921</td>\n",
       "      <td>1967</td>\n",
       "      <td>PhD</td>\n",
       "      <td>Married</td>\n",
       "      <td>59062.0</td>\n",
       "      <td>2</td>\n",
       "      <td>1</td>\n",
       "      <td>2013-10-03</td>\n",
       "      <td>74</td>\n",
       "      <td>46</td>\n",
       "      <td>1</td>\n",
       "      <td>12</td>\n",
       "      <td>3</td>\n",
       "      <td>0</td>\n",
       "      <td>9</td>\n",
       "      <td>2</td>\n",
       "      <td>2</td>\n",
       "      <td>0</td>\n",
       "      <td>3</td>\n",
       "      <td>4</td>\n",
       "      <td>0</td>\n",
       "      <td>0</td>\n",
       "      <td>0</td>\n",
       "      <td>0</td>\n",
       "      <td>0</td>\n",
       "      <td>0</td>\n",
       "      <td>0</td>\n",
       "      <td>Spain</td>\n",
       "    </tr>\n",
       "    <tr>\n",
       "      <th>169</th>\n",
       "      <td>7342</td>\n",
       "      <td>1961</td>\n",
       "      <td>2n Cycle</td>\n",
       "      <td>Widow</td>\n",
       "      <td>59184.0</td>\n",
       "      <td>0</td>\n",
       "      <td>1</td>\n",
       "      <td>2012-09-09</td>\n",
       "      <td>6</td>\n",
       "      <td>341</td>\n",
       "      <td>142</td>\n",
       "      <td>113</td>\n",
       "      <td>259</td>\n",
       "      <td>151</td>\n",
       "      <td>66</td>\n",
       "      <td>3</td>\n",
       "      <td>6</td>\n",
       "      <td>6</td>\n",
       "      <td>12</td>\n",
       "      <td>5</td>\n",
       "      <td>0</td>\n",
       "      <td>0</td>\n",
       "      <td>0</td>\n",
       "      <td>0</td>\n",
       "      <td>0</td>\n",
       "      <td>0</td>\n",
       "      <td>0</td>\n",
       "      <td>Spain</td>\n",
       "    </tr>\n",
       "    <tr>\n",
       "      <th>484</th>\n",
       "      <td>10562</td>\n",
       "      <td>1946</td>\n",
       "      <td>Master</td>\n",
       "      <td>Married</td>\n",
       "      <td>66835.0</td>\n",
       "      <td>0</td>\n",
       "      <td>0</td>\n",
       "      <td>2013-09-28</td>\n",
       "      <td>21</td>\n",
       "      <td>620</td>\n",
       "      <td>26</td>\n",
       "      <td>195</td>\n",
       "      <td>34</td>\n",
       "      <td>17</td>\n",
       "      <td>141</td>\n",
       "      <td>1</td>\n",
       "      <td>6</td>\n",
       "      <td>4</td>\n",
       "      <td>13</td>\n",
       "      <td>2</td>\n",
       "      <td>0</td>\n",
       "      <td>0</td>\n",
       "      <td>0</td>\n",
       "      <td>0</td>\n",
       "      <td>0</td>\n",
       "      <td>0</td>\n",
       "      <td>0</td>\n",
       "      <td>India</td>\n",
       "    </tr>\n",
       "    <tr>\n",
       "      <th>1396</th>\n",
       "      <td>3389</td>\n",
       "      <td>1970</td>\n",
       "      <td>Graduation</td>\n",
       "      <td>Married</td>\n",
       "      <td>69016.0</td>\n",
       "      <td>0</td>\n",
       "      <td>1</td>\n",
       "      <td>2012-11-22</td>\n",
       "      <td>61</td>\n",
       "      <td>726</td>\n",
       "      <td>53</td>\n",
       "      <td>363</td>\n",
       "      <td>123</td>\n",
       "      <td>107</td>\n",
       "      <td>161</td>\n",
       "      <td>4</td>\n",
       "      <td>8</td>\n",
       "      <td>9</td>\n",
       "      <td>13</td>\n",
       "      <td>5</td>\n",
       "      <td>0</td>\n",
       "      <td>0</td>\n",
       "      <td>0</td>\n",
       "      <td>0</td>\n",
       "      <td>0</td>\n",
       "      <td>0</td>\n",
       "      <td>0</td>\n",
       "      <td>Spain</td>\n",
       "    </tr>\n",
       "    <tr>\n",
       "      <th>1410</th>\n",
       "      <td>2678</td>\n",
       "      <td>1990</td>\n",
       "      <td>Graduation</td>\n",
       "      <td>Single</td>\n",
       "      <td>34412.0</td>\n",
       "      <td>1</td>\n",
       "      <td>0</td>\n",
       "      <td>2013-02-13</td>\n",
       "      <td>62</td>\n",
       "      <td>52</td>\n",
       "      <td>12</td>\n",
       "      <td>50</td>\n",
       "      <td>4</td>\n",
       "      <td>36</td>\n",
       "      <td>55</td>\n",
       "      <td>3</td>\n",
       "      <td>5</td>\n",
       "      <td>0</td>\n",
       "      <td>3</td>\n",
       "      <td>9</td>\n",
       "      <td>0</td>\n",
       "      <td>0</td>\n",
       "      <td>0</td>\n",
       "      <td>0</td>\n",
       "      <td>0</td>\n",
       "      <td>0</td>\n",
       "      <td>0</td>\n",
       "      <td>Australia</td>\n",
       "    </tr>\n",
       "    <tr>\n",
       "      <th>1793</th>\n",
       "      <td>2563</td>\n",
       "      <td>1961</td>\n",
       "      <td>Basic</td>\n",
       "      <td>Married</td>\n",
       "      <td>28249.0</td>\n",
       "      <td>0</td>\n",
       "      <td>0</td>\n",
       "      <td>2014-06-15</td>\n",
       "      <td>80</td>\n",
       "      <td>1</td>\n",
       "      <td>9</td>\n",
       "      <td>7</td>\n",
       "      <td>2</td>\n",
       "      <td>14</td>\n",
       "      <td>10</td>\n",
       "      <td>1</td>\n",
       "      <td>2</td>\n",
       "      <td>0</td>\n",
       "      <td>3</td>\n",
       "      <td>6</td>\n",
       "      <td>0</td>\n",
       "      <td>0</td>\n",
       "      <td>0</td>\n",
       "      <td>0</td>\n",
       "      <td>0</td>\n",
       "      <td>0</td>\n",
       "      <td>0</td>\n",
       "      <td>India</td>\n",
       "    </tr>\n",
       "    <tr>\n",
       "      <th>2200</th>\n",
       "      <td>9771</td>\n",
       "      <td>1988</td>\n",
       "      <td>2n Cycle</td>\n",
       "      <td>Single</td>\n",
       "      <td>23331.0</td>\n",
       "      <td>1</td>\n",
       "      <td>0</td>\n",
       "      <td>2012-10-05</td>\n",
       "      <td>97</td>\n",
       "      <td>104</td>\n",
       "      <td>20</td>\n",
       "      <td>101</td>\n",
       "      <td>24</td>\n",
       "      <td>15</td>\n",
       "      <td>5</td>\n",
       "      <td>6</td>\n",
       "      <td>5</td>\n",
       "      <td>1</td>\n",
       "      <td>5</td>\n",
       "      <td>9</td>\n",
       "      <td>0</td>\n",
       "      <td>0</td>\n",
       "      <td>0</td>\n",
       "      <td>0</td>\n",
       "      <td>0</td>\n",
       "      <td>0</td>\n",
       "      <td>0</td>\n",
       "      <td>India</td>\n",
       "    </tr>\n",
       "    <tr>\n",
       "      <th>1663</th>\n",
       "      <td>2853</td>\n",
       "      <td>1980</td>\n",
       "      <td>Graduation</td>\n",
       "      <td>Single</td>\n",
       "      <td>51766.0</td>\n",
       "      <td>1</td>\n",
       "      <td>0</td>\n",
       "      <td>2014-03-11</td>\n",
       "      <td>74</td>\n",
       "      <td>60</td>\n",
       "      <td>51</td>\n",
       "      <td>87</td>\n",
       "      <td>6</td>\n",
       "      <td>20</td>\n",
       "      <td>51</td>\n",
       "      <td>2</td>\n",
       "      <td>4</td>\n",
       "      <td>2</td>\n",
       "      <td>4</td>\n",
       "      <td>5</td>\n",
       "      <td>0</td>\n",
       "      <td>0</td>\n",
       "      <td>0</td>\n",
       "      <td>0</td>\n",
       "      <td>0</td>\n",
       "      <td>0</td>\n",
       "      <td>0</td>\n",
       "      <td>Canada</td>\n",
       "    </tr>\n",
       "    <tr>\n",
       "      <th>1103</th>\n",
       "      <td>3120</td>\n",
       "      <td>1981</td>\n",
       "      <td>Graduation</td>\n",
       "      <td>Together</td>\n",
       "      <td>38547.0</td>\n",
       "      <td>1</td>\n",
       "      <td>0</td>\n",
       "      <td>2013-08-28</td>\n",
       "      <td>49</td>\n",
       "      <td>6</td>\n",
       "      <td>1</td>\n",
       "      <td>10</td>\n",
       "      <td>0</td>\n",
       "      <td>1</td>\n",
       "      <td>4</td>\n",
       "      <td>1</td>\n",
       "      <td>1</td>\n",
       "      <td>0</td>\n",
       "      <td>2</td>\n",
       "      <td>8</td>\n",
       "      <td>0</td>\n",
       "      <td>0</td>\n",
       "      <td>0</td>\n",
       "      <td>0</td>\n",
       "      <td>0</td>\n",
       "      <td>0</td>\n",
       "      <td>1</td>\n",
       "      <td>Canada</td>\n",
       "    </tr>\n",
       "    <tr>\n",
       "      <th>655</th>\n",
       "      <td>4656</td>\n",
       "      <td>1990</td>\n",
       "      <td>2n Cycle</td>\n",
       "      <td>Single</td>\n",
       "      <td>51250.0</td>\n",
       "      <td>1</td>\n",
       "      <td>0</td>\n",
       "      <td>2013-03-30</td>\n",
       "      <td>28</td>\n",
       "      <td>342</td>\n",
       "      <td>32</td>\n",
       "      <td>230</td>\n",
       "      <td>34</td>\n",
       "      <td>32</td>\n",
       "      <td>40</td>\n",
       "      <td>5</td>\n",
       "      <td>10</td>\n",
       "      <td>5</td>\n",
       "      <td>4</td>\n",
       "      <td>9</td>\n",
       "      <td>1</td>\n",
       "      <td>0</td>\n",
       "      <td>0</td>\n",
       "      <td>0</td>\n",
       "      <td>0</td>\n",
       "      <td>0</td>\n",
       "      <td>0</td>\n",
       "      <td>Saudi Arabia</td>\n",
       "    </tr>\n",
       "  </tbody>\n",
       "</table>\n",
       "</div>"
      ],
      "text/plain": [
       "         ID  Year_Birth   Education Marital_Status   Income   Kidhome  \\\n",
       "1672   1921        1967         PhD        Married   59062.0        2   \n",
       "169    7342        1961    2n Cycle          Widow   59184.0        0   \n",
       "484   10562        1946      Master        Married   66835.0        0   \n",
       "1396   3389        1970  Graduation        Married   69016.0        0   \n",
       "1410   2678        1990  Graduation         Single   34412.0        1   \n",
       "1793   2563        1961       Basic        Married   28249.0        0   \n",
       "2200   9771        1988    2n Cycle         Single   23331.0        1   \n",
       "1663   2853        1980  Graduation         Single   51766.0        1   \n",
       "1103   3120        1981  Graduation       Together   38547.0        1   \n",
       "655    4656        1990    2n Cycle         Single   51250.0        1   \n",
       "\n",
       "      Teenhome Dt_Customer  Recency  MntWines  MntFruits  MntMeatProducts  \\\n",
       "1672         1  2013-10-03       74        46          1               12   \n",
       "169          1  2012-09-09        6       341        142              113   \n",
       "484          0  2013-09-28       21       620         26              195   \n",
       "1396         1  2012-11-22       61       726         53              363   \n",
       "1410         0  2013-02-13       62        52         12               50   \n",
       "1793         0  2014-06-15       80         1          9                7   \n",
       "2200         0  2012-10-05       97       104         20              101   \n",
       "1663         0  2014-03-11       74        60         51               87   \n",
       "1103         0  2013-08-28       49         6          1               10   \n",
       "655          0  2013-03-30       28       342         32              230   \n",
       "\n",
       "      MntFishProducts  MntSweetProducts  MntGoldProds  NumDealsPurchases  \\\n",
       "1672                3                 0             9                  2   \n",
       "169               259               151            66                  3   \n",
       "484                34                17           141                  1   \n",
       "1396              123               107           161                  4   \n",
       "1410                4                36            55                  3   \n",
       "1793                2                14            10                  1   \n",
       "2200               24                15             5                  6   \n",
       "1663                6                20            51                  2   \n",
       "1103                0                 1             4                  1   \n",
       "655                34                32            40                  5   \n",
       "\n",
       "      NumWebPurchases  NumCatalogPurchases  NumStorePurchases  \\\n",
       "1672                2                    0                  3   \n",
       "169                 6                    6                 12   \n",
       "484                 6                    4                 13   \n",
       "1396                8                    9                 13   \n",
       "1410                5                    0                  3   \n",
       "1793                2                    0                  3   \n",
       "2200                5                    1                  5   \n",
       "1663                4                    2                  4   \n",
       "1103                1                    0                  2   \n",
       "655                10                    5                  4   \n",
       "\n",
       "      NumWebVisitsMonth  AcceptedCmp3  AcceptedCmp4  AcceptedCmp5  \\\n",
       "1672                  4             0             0             0   \n",
       "169                   5             0             0             0   \n",
       "484                   2             0             0             0   \n",
       "1396                  5             0             0             0   \n",
       "1410                  9             0             0             0   \n",
       "1793                  6             0             0             0   \n",
       "2200                  9             0             0             0   \n",
       "1663                  5             0             0             0   \n",
       "1103                  8             0             0             0   \n",
       "655                   9             1             0             0   \n",
       "\n",
       "      AcceptedCmp1  AcceptedCmp2  Response  Complain       Country  \n",
       "1672             0             0         0         0         Spain  \n",
       "169              0             0         0         0         Spain  \n",
       "484              0             0         0         0         India  \n",
       "1396             0             0         0         0         Spain  \n",
       "1410             0             0         0         0     Australia  \n",
       "1793             0             0         0         0         India  \n",
       "2200             0             0         0         0         India  \n",
       "1663             0             0         0         0        Canada  \n",
       "1103             0             0         0         1        Canada  \n",
       "655              0             0         0         0  Saudi Arabia  "
      ]
     },
     "execution_count": 135,
     "metadata": {},
     "output_type": "execute_result"
    }
   ],
   "source": [
    "pd.set_option('display.max_columns', None)\n",
    "df.sample(10)"
   ]
  },
  {
   "cell_type": "code",
   "execution_count": 136,
   "metadata": {
    "colab": {
     "base_uri": "https://localhost:8080/"
    },
    "id": "amXmw_p7g8Y4",
    "outputId": "35cd8724-2d5b-425e-b988-4eb6a20b5716"
   },
   "outputs": [
    {
     "name": "stdout",
     "output_type": "stream",
     "text": [
      "<class 'pandas.core.frame.DataFrame'>\n",
      "RangeIndex: 2240 entries, 0 to 2239\n",
      "Data columns (total 28 columns):\n",
      " #   Column               Non-Null Count  Dtype  \n",
      "---  ------               --------------  -----  \n",
      " 0   ID                   2240 non-null   int64  \n",
      " 1   Year_Birth           2240 non-null   int64  \n",
      " 2   Education            2240 non-null   object \n",
      " 3   Marital_Status       2240 non-null   object \n",
      " 4    Income              2216 non-null   float64\n",
      " 5   Kidhome              2240 non-null   int64  \n",
      " 6   Teenhome             2240 non-null   int64  \n",
      " 7   Dt_Customer          2240 non-null   object \n",
      " 8   Recency              2240 non-null   int64  \n",
      " 9   MntWines             2240 non-null   int64  \n",
      " 10  MntFruits            2240 non-null   int64  \n",
      " 11  MntMeatProducts      2240 non-null   int64  \n",
      " 12  MntFishProducts      2240 non-null   int64  \n",
      " 13  MntSweetProducts     2240 non-null   int64  \n",
      " 14  MntGoldProds         2240 non-null   int64  \n",
      " 15  NumDealsPurchases    2240 non-null   int64  \n",
      " 16  NumWebPurchases      2240 non-null   int64  \n",
      " 17  NumCatalogPurchases  2240 non-null   int64  \n",
      " 18  NumStorePurchases    2240 non-null   int64  \n",
      " 19  NumWebVisitsMonth    2240 non-null   int64  \n",
      " 20  AcceptedCmp3         2240 non-null   int64  \n",
      " 21  AcceptedCmp4         2240 non-null   int64  \n",
      " 22  AcceptedCmp5         2240 non-null   int64  \n",
      " 23  AcceptedCmp1         2240 non-null   int64  \n",
      " 24  AcceptedCmp2         2240 non-null   int64  \n",
      " 25  Response             2240 non-null   int64  \n",
      " 26  Complain             2240 non-null   int64  \n",
      " 27  Country              2240 non-null   object \n",
      "dtypes: float64(1), int64(23), object(4)\n",
      "memory usage: 490.1+ KB\n"
     ]
    }
   ],
   "source": [
    "df.info()"
   ]
  },
  {
   "cell_type": "code",
   "execution_count": 137,
   "metadata": {},
   "outputs": [],
   "source": [
    "# pp.to_file(output_file=\"Data Report.html\")"
   ]
  },
  {
   "cell_type": "markdown",
   "metadata": {
    "id": "FmPiWCocI8g5"
   },
   "source": [
    "## Transformations"
   ]
  },
  {
   "cell_type": "markdown",
   "metadata": {},
   "source": [
    "### Dropping Null Values and Duplicate"
   ]
  },
  {
   "cell_type": "code",
   "execution_count": 138,
   "metadata": {},
   "outputs": [],
   "source": [
    "df = df[~df[\" Income \"].isnull()]\n",
    "df.to_csv(\"marketing_data_clean.csv\", index=False)"
   ]
  },
  {
   "cell_type": "markdown",
   "metadata": {},
   "source": [
    "To create the RFM segmentation, we first needs to select the columns for each of the Recency (a column that already given), Monetary (approximated from the Mnt_xxx_purchase columns), and Frequency (approximated by the Num_xxx_purchases columns). As for the Recency, we would need to tranform it into some categorical values. Since the distribution of recency tends to be uniformly distributed, we can do binning to categorize it, spesifically using quantile binning. Ideally the binning of the recency columns is guided by some business rule, but since we have no clue, we would just pick 3 category where 1: Recent Purchases, 2: Moderate Purchases, 3: Rare Purchases."
   ]
  },
  {
   "cell_type": "markdown",
   "metadata": {},
   "source": [
    "### Evaluating and Categorizing Recency"
   ]
  },
  {
   "cell_type": "code",
   "execution_count": 139,
   "metadata": {},
   "outputs": [
    {
     "data": {
      "image/png": "[encoded data removed]",
      "text/plain": [
       "<Figure size 800x500 with 1 Axes>"
      ]
     },
     "metadata": {},
     "output_type": "display_data"
    }
   ],
   "source": [
    "# sns.histplot(df, x=\"Recency\", kde=True)\n",
    "sns.set_theme(style=\"whitegrid\")\n",
    "plt.figure(figsize=(8, 5))\n",
    "sns.histplot(df, x=\"Recency\", kde=True, color=\"royalblue\", bins=20, alpha=0.7)\n",
    "\n",
    "plt.title(\"Customer Recency\", fontsize=16, fontweight=\"bold\", pad=15)\n",
    "plt.xlabel(\"Recency\", fontsize=12)\n",
    "plt.ylabel(\"Count\", fontsize=12)\n",
    "\n",
    "plt.grid(True, linestyle=\"--\", alpha=0.5)\n",
    "\n",
    "plt.show()"
   ]
  },
  {
   "cell_type": "code",
   "execution_count": 140,
   "metadata": {
    "id": "M8B97gdThD79"
   },
   "outputs": [],
   "source": [
    "### Categorizing Recency\n",
    "df['Recency_binned'] = pd.qcut(df['Recency'], q=3, labels=[1, 2, 3])"
   ]
  },
  {
   "cell_type": "code",
   "execution_count": 141,
   "metadata": {},
   "outputs": [
    {
     "data": {
      "text/html": [
       "<div>\n",
       "<style scoped>\n",
       "    .dataframe tbody tr th:only-of-type {\n",
       "        vertical-align: middle;\n",
       "    }\n",
       "\n",
       "    .dataframe tbody tr th {\n",
       "        vertical-align: top;\n",
       "    }\n",
       "\n",
       "    .dataframe thead th {\n",
       "        text-align: right;\n",
       "    }\n",
       "</style>\n",
       "<table border=\"1\" class=\"dataframe\">\n",
       "  <thead>\n",
       "    <tr style=\"text-align: right;\">\n",
       "      <th></th>\n",
       "      <th>ID</th>\n",
       "      <th>Year_Birth</th>\n",
       "      <th>Education</th>\n",
       "      <th>Marital_Status</th>\n",
       "      <th>Income</th>\n",
       "      <th>Kidhome</th>\n",
       "      <th>Teenhome</th>\n",
       "      <th>Dt_Customer</th>\n",
       "      <th>Recency</th>\n",
       "      <th>MntWines</th>\n",
       "      <th>MntFruits</th>\n",
       "      <th>MntMeatProducts</th>\n",
       "      <th>MntFishProducts</th>\n",
       "      <th>MntSweetProducts</th>\n",
       "      <th>MntGoldProds</th>\n",
       "      <th>NumDealsPurchases</th>\n",
       "      <th>NumWebPurchases</th>\n",
       "      <th>NumCatalogPurchases</th>\n",
       "      <th>NumStorePurchases</th>\n",
       "      <th>NumWebVisitsMonth</th>\n",
       "      <th>AcceptedCmp3</th>\n",
       "      <th>AcceptedCmp4</th>\n",
       "      <th>AcceptedCmp5</th>\n",
       "      <th>AcceptedCmp1</th>\n",
       "      <th>AcceptedCmp2</th>\n",
       "      <th>Response</th>\n",
       "      <th>Complain</th>\n",
       "      <th>Country</th>\n",
       "      <th>Recency_binned</th>\n",
       "    </tr>\n",
       "  </thead>\n",
       "  <tbody>\n",
       "    <tr>\n",
       "      <th>1425</th>\n",
       "      <td>8727</td>\n",
       "      <td>1978</td>\n",
       "      <td>Graduation</td>\n",
       "      <td>Divorced</td>\n",
       "      <td>63693.0</td>\n",
       "      <td>0</td>\n",
       "      <td>1</td>\n",
       "      <td>2013-10-14</td>\n",
       "      <td>63</td>\n",
       "      <td>587</td>\n",
       "      <td>43</td>\n",
       "      <td>337</td>\n",
       "      <td>42</td>\n",
       "      <td>87</td>\n",
       "      <td>54</td>\n",
       "      <td>3</td>\n",
       "      <td>11</td>\n",
       "      <td>6</td>\n",
       "      <td>9</td>\n",
       "      <td>6</td>\n",
       "      <td>0</td>\n",
       "      <td>0</td>\n",
       "      <td>0</td>\n",
       "      <td>0</td>\n",
       "      <td>0</td>\n",
       "      <td>0</td>\n",
       "      <td>0</td>\n",
       "      <td>Saudi Arabia</td>\n",
       "      <td>2</td>\n",
       "    </tr>\n",
       "    <tr>\n",
       "      <th>878</th>\n",
       "      <td>4856</td>\n",
       "      <td>1957</td>\n",
       "      <td>2n Cycle</td>\n",
       "      <td>Married</td>\n",
       "      <td>82347.0</td>\n",
       "      <td>0</td>\n",
       "      <td>0</td>\n",
       "      <td>2012-11-06</td>\n",
       "      <td>38</td>\n",
       "      <td>556</td>\n",
       "      <td>54</td>\n",
       "      <td>845</td>\n",
       "      <td>202</td>\n",
       "      <td>133</td>\n",
       "      <td>63</td>\n",
       "      <td>1</td>\n",
       "      <td>7</td>\n",
       "      <td>7</td>\n",
       "      <td>10</td>\n",
       "      <td>3</td>\n",
       "      <td>1</td>\n",
       "      <td>0</td>\n",
       "      <td>0</td>\n",
       "      <td>1</td>\n",
       "      <td>0</td>\n",
       "      <td>0</td>\n",
       "      <td>0</td>\n",
       "      <td>India</td>\n",
       "      <td>2</td>\n",
       "    </tr>\n",
       "    <tr>\n",
       "      <th>1889</th>\n",
       "      <td>3807</td>\n",
       "      <td>1955</td>\n",
       "      <td>Graduation</td>\n",
       "      <td>Together</td>\n",
       "      <td>59925.0</td>\n",
       "      <td>0</td>\n",
       "      <td>1</td>\n",
       "      <td>2012-11-30</td>\n",
       "      <td>83</td>\n",
       "      <td>473</td>\n",
       "      <td>21</td>\n",
       "      <td>176</td>\n",
       "      <td>19</td>\n",
       "      <td>21</td>\n",
       "      <td>56</td>\n",
       "      <td>3</td>\n",
       "      <td>9</td>\n",
       "      <td>2</td>\n",
       "      <td>9</td>\n",
       "      <td>6</td>\n",
       "      <td>0</td>\n",
       "      <td>0</td>\n",
       "      <td>0</td>\n",
       "      <td>0</td>\n",
       "      <td>0</td>\n",
       "      <td>0</td>\n",
       "      <td>0</td>\n",
       "      <td>Spain</td>\n",
       "      <td>3</td>\n",
       "    </tr>\n",
       "    <tr>\n",
       "      <th>1975</th>\n",
       "      <td>2350</td>\n",
       "      <td>1972</td>\n",
       "      <td>Graduation</td>\n",
       "      <td>Married</td>\n",
       "      <td>59666.0</td>\n",
       "      <td>1</td>\n",
       "      <td>1</td>\n",
       "      <td>2013-03-22</td>\n",
       "      <td>87</td>\n",
       "      <td>623</td>\n",
       "      <td>53</td>\n",
       "      <td>178</td>\n",
       "      <td>23</td>\n",
       "      <td>17</td>\n",
       "      <td>133</td>\n",
       "      <td>7</td>\n",
       "      <td>3</td>\n",
       "      <td>2</td>\n",
       "      <td>8</td>\n",
       "      <td>8</td>\n",
       "      <td>0</td>\n",
       "      <td>1</td>\n",
       "      <td>0</td>\n",
       "      <td>0</td>\n",
       "      <td>0</td>\n",
       "      <td>0</td>\n",
       "      <td>0</td>\n",
       "      <td>Canada</td>\n",
       "      <td>3</td>\n",
       "    </tr>\n",
       "    <tr>\n",
       "      <th>2230</th>\n",
       "      <td>3363</td>\n",
       "      <td>1974</td>\n",
       "      <td>2n Cycle</td>\n",
       "      <td>Married</td>\n",
       "      <td>20130.0</td>\n",
       "      <td>0</td>\n",
       "      <td>0</td>\n",
       "      <td>2014-03-17</td>\n",
       "      <td>99</td>\n",
       "      <td>0</td>\n",
       "      <td>6</td>\n",
       "      <td>3</td>\n",
       "      <td>7</td>\n",
       "      <td>6</td>\n",
       "      <td>12</td>\n",
       "      <td>1</td>\n",
       "      <td>1</td>\n",
       "      <td>0</td>\n",
       "      <td>3</td>\n",
       "      <td>8</td>\n",
       "      <td>0</td>\n",
       "      <td>0</td>\n",
       "      <td>0</td>\n",
       "      <td>0</td>\n",
       "      <td>0</td>\n",
       "      <td>0</td>\n",
       "      <td>0</td>\n",
       "      <td>Spain</td>\n",
       "      <td>3</td>\n",
       "    </tr>\n",
       "    <tr>\n",
       "      <th>1167</th>\n",
       "      <td>9736</td>\n",
       "      <td>1980</td>\n",
       "      <td>Graduation</td>\n",
       "      <td>Married</td>\n",
       "      <td>41850.0</td>\n",
       "      <td>1</td>\n",
       "      <td>1</td>\n",
       "      <td>2012-12-24</td>\n",
       "      <td>51</td>\n",
       "      <td>53</td>\n",
       "      <td>5</td>\n",
       "      <td>19</td>\n",
       "      <td>2</td>\n",
       "      <td>13</td>\n",
       "      <td>4</td>\n",
       "      <td>3</td>\n",
       "      <td>3</td>\n",
       "      <td>0</td>\n",
       "      <td>3</td>\n",
       "      <td>8</td>\n",
       "      <td>0</td>\n",
       "      <td>0</td>\n",
       "      <td>0</td>\n",
       "      <td>0</td>\n",
       "      <td>0</td>\n",
       "      <td>0</td>\n",
       "      <td>0</td>\n",
       "      <td>USA</td>\n",
       "      <td>2</td>\n",
       "    </tr>\n",
       "    <tr>\n",
       "      <th>2076</th>\n",
       "      <td>1951</td>\n",
       "      <td>1981</td>\n",
       "      <td>Basic</td>\n",
       "      <td>Married</td>\n",
       "      <td>34445.0</td>\n",
       "      <td>0</td>\n",
       "      <td>0</td>\n",
       "      <td>2013-01-27</td>\n",
       "      <td>92</td>\n",
       "      <td>228</td>\n",
       "      <td>122</td>\n",
       "      <td>122</td>\n",
       "      <td>208</td>\n",
       "      <td>129</td>\n",
       "      <td>30</td>\n",
       "      <td>6</td>\n",
       "      <td>11</td>\n",
       "      <td>2</td>\n",
       "      <td>8</td>\n",
       "      <td>9</td>\n",
       "      <td>0</td>\n",
       "      <td>0</td>\n",
       "      <td>0</td>\n",
       "      <td>0</td>\n",
       "      <td>0</td>\n",
       "      <td>0</td>\n",
       "      <td>0</td>\n",
       "      <td>Spain</td>\n",
       "      <td>3</td>\n",
       "    </tr>\n",
       "    <tr>\n",
       "      <th>2027</th>\n",
       "      <td>11030</td>\n",
       "      <td>1976</td>\n",
       "      <td>Master</td>\n",
       "      <td>Married</td>\n",
       "      <td>33181.0</td>\n",
       "      <td>1</td>\n",
       "      <td>0</td>\n",
       "      <td>2014-01-03</td>\n",
       "      <td>90</td>\n",
       "      <td>9</td>\n",
       "      <td>0</td>\n",
       "      <td>3</td>\n",
       "      <td>0</td>\n",
       "      <td>0</td>\n",
       "      <td>4</td>\n",
       "      <td>1</td>\n",
       "      <td>1</td>\n",
       "      <td>0</td>\n",
       "      <td>2</td>\n",
       "      <td>6</td>\n",
       "      <td>1</td>\n",
       "      <td>0</td>\n",
       "      <td>0</td>\n",
       "      <td>0</td>\n",
       "      <td>0</td>\n",
       "      <td>0</td>\n",
       "      <td>0</td>\n",
       "      <td>Spain</td>\n",
       "      <td>3</td>\n",
       "    </tr>\n",
       "    <tr>\n",
       "      <th>2145</th>\n",
       "      <td>2254</td>\n",
       "      <td>1983</td>\n",
       "      <td>Graduation</td>\n",
       "      <td>Married</td>\n",
       "      <td>69520.0</td>\n",
       "      <td>0</td>\n",
       "      <td>0</td>\n",
       "      <td>2013-07-07</td>\n",
       "      <td>95</td>\n",
       "      <td>627</td>\n",
       "      <td>120</td>\n",
       "      <td>414</td>\n",
       "      <td>121</td>\n",
       "      <td>80</td>\n",
       "      <td>93</td>\n",
       "      <td>1</td>\n",
       "      <td>9</td>\n",
       "      <td>6</td>\n",
       "      <td>5</td>\n",
       "      <td>5</td>\n",
       "      <td>0</td>\n",
       "      <td>0</td>\n",
       "      <td>0</td>\n",
       "      <td>0</td>\n",
       "      <td>0</td>\n",
       "      <td>0</td>\n",
       "      <td>0</td>\n",
       "      <td>Australia</td>\n",
       "      <td>3</td>\n",
       "    </tr>\n",
       "    <tr>\n",
       "      <th>814</th>\n",
       "      <td>4791</td>\n",
       "      <td>1980</td>\n",
       "      <td>Graduation</td>\n",
       "      <td>Together</td>\n",
       "      <td>44964.0</td>\n",
       "      <td>1</td>\n",
       "      <td>1</td>\n",
       "      <td>2012-12-16</td>\n",
       "      <td>35</td>\n",
       "      <td>19</td>\n",
       "      <td>1</td>\n",
       "      <td>17</td>\n",
       "      <td>2</td>\n",
       "      <td>0</td>\n",
       "      <td>2</td>\n",
       "      <td>1</td>\n",
       "      <td>1</td>\n",
       "      <td>0</td>\n",
       "      <td>3</td>\n",
       "      <td>8</td>\n",
       "      <td>0</td>\n",
       "      <td>0</td>\n",
       "      <td>0</td>\n",
       "      <td>0</td>\n",
       "      <td>0</td>\n",
       "      <td>0</td>\n",
       "      <td>0</td>\n",
       "      <td>Australia</td>\n",
       "      <td>2</td>\n",
       "    </tr>\n",
       "  </tbody>\n",
       "</table>\n",
       "</div>"
      ],
      "text/plain": [
       "         ID  Year_Birth   Education Marital_Status   Income   Kidhome  \\\n",
       "1425   8727        1978  Graduation       Divorced   63693.0        0   \n",
       "878    4856        1957    2n Cycle        Married   82347.0        0   \n",
       "1889   3807        1955  Graduation       Together   59925.0        0   \n",
       "1975   2350        1972  Graduation        Married   59666.0        1   \n",
       "2230   3363        1974    2n Cycle        Married   20130.0        0   \n",
       "1167   9736        1980  Graduation        Married   41850.0        1   \n",
       "2076   1951        1981       Basic        Married   34445.0        0   \n",
       "2027  11030        1976      Master        Married   33181.0        1   \n",
       "2145   2254        1983  Graduation        Married   69520.0        0   \n",
       "814    4791        1980  Graduation       Together   44964.0        1   \n",
       "\n",
       "      Teenhome Dt_Customer  Recency  MntWines  MntFruits  MntMeatProducts  \\\n",
       "1425         1  2013-10-14       63       587         43              337   \n",
       "878          0  2012-11-06       38       556         54              845   \n",
       "1889         1  2012-11-30       83       473         21              176   \n",
       "1975         1  2013-03-22       87       623         53              178   \n",
       "2230         0  2014-03-17       99         0          6                3   \n",
       "1167         1  2012-12-24       51        53          5               19   \n",
       "2076         0  2013-01-27       92       228        122              122   \n",
       "2027         0  2014-01-03       90         9          0                3   \n",
       "2145         0  2013-07-07       95       627        120              414   \n",
       "814          1  2012-12-16       35        19          1               17   \n",
       "\n",
       "      MntFishProducts  MntSweetProducts  MntGoldProds  NumDealsPurchases  \\\n",
       "1425               42                87            54                  3   \n",
       "878               202               133            63                  1   \n",
       "1889               19                21            56                  3   \n",
       "1975               23                17           133                  7   \n",
       "2230                7                 6            12                  1   \n",
       "1167                2                13             4                  3   \n",
       "2076              208               129            30                  6   \n",
       "2027                0                 0             4                  1   \n",
       "2145              121                80            93                  1   \n",
       "814                 2                 0             2                  1   \n",
       "\n",
       "      NumWebPurchases  NumCatalogPurchases  NumStorePurchases  \\\n",
       "1425               11                    6                  9   \n",
       "878                 7                    7                 10   \n",
       "1889                9                    2                  9   \n",
       "1975                3                    2                  8   \n",
       "2230                1                    0                  3   \n",
       "1167                3                    0                  3   \n",
       "2076               11                    2                  8   \n",
       "2027                1                    0                  2   \n",
       "2145                9                    6                  5   \n",
       "814                 1                    0                  3   \n",
       "\n",
       "      NumWebVisitsMonth  AcceptedCmp3  AcceptedCmp4  AcceptedCmp5  \\\n",
       "1425                  6             0             0             0   \n",
       "878                   3             1             0             0   \n",
       "1889                  6             0             0             0   \n",
       "1975                  8             0             1             0   \n",
       "2230                  8             0             0             0   \n",
       "1167                  8             0             0             0   \n",
       "2076                  9             0             0             0   \n",
       "2027                  6             1             0             0   \n",
       "2145                  5             0             0             0   \n",
       "814                   8             0             0             0   \n",
       "\n",
       "      AcceptedCmp1  AcceptedCmp2  Response  Complain       Country  \\\n",
       "1425             0             0         0         0  Saudi Arabia   \n",
       "878              1             0         0         0         India   \n",
       "1889             0             0         0         0         Spain   \n",
       "1975             0             0         0         0        Canada   \n",
       "2230             0             0         0         0         Spain   \n",
       "1167             0             0         0         0           USA   \n",
       "2076             0             0         0         0         Spain   \n",
       "2027             0             0         0         0         Spain   \n",
       "2145             0             0         0         0     Australia   \n",
       "814              0             0         0         0     Australia   \n",
       "\n",
       "     Recency_binned  \n",
       "1425              2  \n",
       "878               2  \n",
       "1889              3  \n",
       "1975              3  \n",
       "2230              3  \n",
       "1167              2  \n",
       "2076              3  \n",
       "2027              3  \n",
       "2145              3  \n",
       "814               2  "
      ]
     },
     "execution_count": 141,
     "metadata": {},
     "output_type": "execute_result"
    }
   ],
   "source": [
    "df.sample(10)"
   ]
  },
  {
   "cell_type": "markdown",
   "metadata": {},
   "source": [
    "### Evaluating Monetary"
   ]
  },
  {
   "cell_type": "code",
   "execution_count": 142,
   "metadata": {},
   "outputs": [],
   "source": [
    "### Creating and Categorizing Monetary\n",
    "df[\"Monetary\"] = df[\"MntFishProducts\"]+df[\"MntFruits\"]+df[\"MntGoldProds\"]+df[\"MntMeatProducts\"]+df[\"MntSweetProducts\"]+df[\"MntWines\"]"
   ]
  },
  {
   "cell_type": "code",
   "execution_count": 143,
   "metadata": {},
   "outputs": [
    {
     "data": {
      "image/png": "[encoded data removed]",
      "text/plain": [
       "<Figure size 800x500 with 1 Axes>"
      ]
     },
     "metadata": {},
     "output_type": "display_data"
    }
   ],
   "source": [
    "# sns.histplot(df, x=\"Monetary\", kde=True)\n",
    "# plt.show()\n",
    "\n",
    "sns.set_theme(style=\"whitegrid\")\n",
    "plt.figure(figsize=(8, 5))\n",
    "sns.histplot(df, x=\"Monetary\", kde=True, color=\"green\", bins=20, alpha=0.7)\n",
    "\n",
    "plt.title(\"Customer Spending\", fontsize=16, fontweight=\"bold\", pad=15)\n",
    "plt.xlabel(\"Spending\", fontsize=12)\n",
    "plt.ylabel(\"Count\", fontsize=12)\n",
    "\n",
    "plt.grid(True, linestyle=\"--\", alpha=0.5)\n",
    "\n",
    "plt.show()"
   ]
  },
  {
   "cell_type": "markdown",
   "metadata": {},
   "source": [
    "### Evaluating Frequency"
   ]
  },
  {
   "cell_type": "code",
   "execution_count": 144,
   "metadata": {},
   "outputs": [],
   "source": [
    "### Creating and Categorizing Frequency\n",
    "df[\"Frequency_Purchase\"] = df[\"NumWebPurchases\"]+df[\"NumCatalogPurchases\"]+df[\"NumDealsPurchases\"]+df[\"NumStorePurchases\"]"
   ]
  },
  {
   "cell_type": "code",
   "execution_count": 145,
   "metadata": {},
   "outputs": [
    {
     "data": {
      "image/png": "[encoded data removed]",
      "text/plain": [
       "<Figure size 800x500 with 1 Axes>"
      ]
     },
     "metadata": {},
     "output_type": "display_data"
    }
   ],
   "source": [
    "# sns.histplot(df, x=\"Frequency_Purchase\", kde=True)\n",
    "# plt.show()\n",
    "\n",
    "sns.set_theme(style=\"whitegrid\")\n",
    "plt.figure(figsize=(8, 5))\n",
    "sns.histplot(df, x=\"Frequency_Purchase\", kde=True, color=\"pink\", bins=20, alpha=0.7)\n",
    "\n",
    "plt.title(\"Customer Purchases\", fontsize=16, fontweight=\"bold\", pad=15)\n",
    "plt.xlabel(\"Frequency\", fontsize=12)\n",
    "plt.ylabel(\"Count\", fontsize=12)\n",
    "\n",
    "plt.grid(True, linestyle=\"--\", alpha=0.5)\n",
    "\n",
    "plt.show()"
   ]
  },
  {
   "cell_type": "markdown",
   "metadata": {},
   "source": [
    "Because Frequency and Monetary derived from many columns, perhaps it is best to leave the column as it is and categorizing it by some clustering algorithm."
   ]
  },
  {
   "cell_type": "markdown",
   "metadata": {},
   "source": [
    "### Clustering of Frequency"
   ]
  },
  {
   "cell_type": "code",
   "execution_count": 146,
   "metadata": {},
   "outputs": [
    {
     "data": {
      "image/png": "[encoded data removed]",
      "text/plain": [
       "<Figure size 700x500 with 1 Axes>"
      ]
     },
     "metadata": {},
     "output_type": "display_data"
    },
    {
     "data": {
      "image/png": "[encoded data removed]",
      "text/plain": [
       "<Figure size 700x500 with 1 Axes>"
      ]
     },
     "metadata": {},
     "output_type": "display_data"
    }
   ],
   "source": [
    "frequency_data = df[[\"NumWebPurchases\",\"NumCatalogPurchases\",\"NumDealsPurchases\",\"NumStorePurchases\"]]  \n",
    "scaler = MinMaxScaler()\n",
    "scaled_data = scaler.fit_transform(frequency_data)\n",
    "\n",
    "# Step 2: Silhouette and Elbow plots\n",
    "silhouette_scores = []\n",
    "inertia = []\n",
    "cluster_range = range(2, 11)  # Test for clusters from 2 to 10\n",
    "\n",
    "for k in cluster_range:\n",
    "    kmeans = KMeans(n_clusters=k, random_state=42)\n",
    "    labels = kmeans.fit_predict(scaled_data)\n",
    "    inertia.append(kmeans.inertia_)\n",
    "    silhouette_scores.append(silhouette_score(scaled_data, labels))\n",
    "\n",
    "# Plot Elbow Method\n",
    "plt.figure(figsize=(7, 5))\n",
    "plt.plot(cluster_range, inertia, 'bx-')\n",
    "plt.xlabel('Number of Clusters')\n",
    "plt.ylabel('Inertia')\n",
    "plt.title('Elbow Method to Determine Optimal Clusters')\n",
    "plt.show()\n",
    "\n",
    "# Plot Silhouette Scores\n",
    "plt.figure(figsize=(7, 5))\n",
    "plt.plot(cluster_range, silhouette_scores, 'bo-')\n",
    "plt.xlabel('Number of Clusters')\n",
    "plt.ylabel('Silhouette Score')\n",
    "plt.title('Silhouette Scores for Different Cluster Sizes')\n",
    "plt.show()"
   ]
  },
  {
   "cell_type": "markdown",
   "metadata": {},
   "source": [
    "Based on the elbow plot, the optimum number of cluster is 4 clusters."
   ]
  },
  {
   "cell_type": "code",
   "execution_count": 147,
   "metadata": {},
   "outputs": [
    {
     "name": "stdout",
     "output_type": "stream",
     "text": [
      "Silhouette Score: 0.4284726733362278\n",
      "Calinski-Harabasz Score: 1845.826404402281\n",
      "Davies-Bouldin Index: 1.039569838741989\n"
     ]
    }
   ],
   "source": [
    "# Step 3: Clustering using the optimal number of clusters (choose k from the above plots)\n",
    "optimal_k = 4 \n",
    "kmeans = KMeans(n_clusters=optimal_k, random_state=42)\n",
    "df['Cluster'] = kmeans.fit_predict(scaled_data)\n",
    "\n",
    "# Step 4: Evaluate Clustering\n",
    "silhouette_avg = silhouette_score(scaled_data, df['Cluster'])\n",
    "calinski_harabasz = calinski_harabasz_score(scaled_data, df['Cluster'])\n",
    "davies_bouldin = davies_bouldin_score(scaled_data, df['Cluster'])\n",
    "\n",
    "print(f\"Silhouette Score: {silhouette_avg}\")\n",
    "print(f\"Calinski-Harabasz Score: {calinski_harabasz}\")\n",
    "print(f\"Davies-Bouldin Index: {davies_bouldin}\")"
   ]
  },
  {
   "cell_type": "code",
   "execution_count": 148,
   "metadata": {},
   "outputs": [],
   "source": [
    "selected_columns = [\"NumWebPurchases\",\"NumCatalogPurchases\",\"NumDealsPurchases\",\"NumStorePurchases\"]\n",
    "\n",
    "# Prepare data for radar plot\n",
    "cluster_centers = pd.DataFrame(kmeans.cluster_centers_, columns=selected_columns)\n",
    "\n",
    "# Normalize cluster centers for radar plot\n",
    "radar_data = pd.concat([cluster_centers], ignore_index = True)"
   ]
  },
  {
   "cell_type": "code",
   "execution_count": 149,
   "metadata": {},
   "outputs": [
    {
     "data": {
      "text/html": [
       "<div>\n",
       "<style scoped>\n",
       "    .dataframe tbody tr th:only-of-type {\n",
       "        vertical-align: middle;\n",
       "    }\n",
       "\n",
       "    .dataframe tbody tr th {\n",
       "        vertical-align: top;\n",
       "    }\n",
       "\n",
       "    .dataframe thead th {\n",
       "        text-align: right;\n",
       "    }\n",
       "</style>\n",
       "<table border=\"1\" class=\"dataframe\">\n",
       "  <thead>\n",
       "    <tr style=\"text-align: right;\">\n",
       "      <th></th>\n",
       "      <th>NumWebPurchases</th>\n",
       "      <th>NumCatalogPurchases</th>\n",
       "      <th>NumDealsPurchases</th>\n",
       "      <th>NumStorePurchases</th>\n",
       "    </tr>\n",
       "  </thead>\n",
       "  <tbody>\n",
       "    <tr>\n",
       "      <th>0</th>\n",
       "      <td>0.204926</td>\n",
       "      <td>0.153432</td>\n",
       "      <td>0.120248</td>\n",
       "      <td>0.469478</td>\n",
       "    </tr>\n",
       "    <tr>\n",
       "      <th>1</th>\n",
       "      <td>0.211899</td>\n",
       "      <td>0.176444</td>\n",
       "      <td>0.130496</td>\n",
       "      <td>0.841899</td>\n",
       "    </tr>\n",
       "    <tr>\n",
       "      <th>2</th>\n",
       "      <td>0.073455</td>\n",
       "      <td>0.018958</td>\n",
       "      <td>0.125949</td>\n",
       "      <td>0.232136</td>\n",
       "    </tr>\n",
       "    <tr>\n",
       "      <th>3</th>\n",
       "      <td>0.223719</td>\n",
       "      <td>0.099206</td>\n",
       "      <td>0.456229</td>\n",
       "      <td>0.472416</td>\n",
       "    </tr>\n",
       "  </tbody>\n",
       "</table>\n",
       "</div>"
      ],
      "text/plain": [
       "   NumWebPurchases  NumCatalogPurchases  NumDealsPurchases  NumStorePurchases\n",
       "0         0.204926             0.153432           0.120248           0.469478\n",
       "1         0.211899             0.176444           0.130496           0.841899\n",
       "2         0.073455             0.018958           0.125949           0.232136\n",
       "3         0.223719             0.099206           0.456229           0.472416"
      ]
     },
     "execution_count": 149,
     "metadata": {},
     "output_type": "execute_result"
    }
   ],
   "source": [
    "radar_data"
   ]
  },
  {
   "cell_type": "code",
   "execution_count": 150,
   "metadata": {},
   "outputs": [
    {
     "data": {
      "image/png": "[encoded data removed]",
      "text/plain": [
       "<Figure size 600x600 with 1 Axes>"
      ]
     },
     "metadata": {},
     "output_type": "display_data"
    }
   ],
   "source": [
    "num_clusters = 4\n",
    "categories = selected_columns\n",
    "# Repeat the first value at the end to close the radar chart\n",
    "angles = np.linspace(0, 2 * np.pi, len(categories), endpoint=False).tolist()\n",
    "angles += angles[:1]\n",
    "\n",
    "# Plot each cluster\n",
    "fig, ax = plt.subplots(figsize=(6, 6), subplot_kw=dict(polar=True))\n",
    "\n",
    "for i in range(num_clusters):\n",
    "    values = radar_data.iloc[i].tolist()\n",
    "    values += values[:1]  # Repeat the first value to close the circle\n",
    "    ax.plot(angles, values, label=f\"Cluster {i}\")\n",
    "    ax.fill(angles, values, alpha=0.1)\n",
    "\n",
    "# Add labels\n",
    "ax.set_yticks([0.2, 0.4, 0.6, 0.8, 1.0])\n",
    "ax.set_yticklabels([\"0.2\", \"0.4\", \"0.6\", \"0.8\", \"1.0\"], fontsize=10)\n",
    "ax.set_xticks(angles[:-1])\n",
    "ax.set_xticklabels(categories, fontsize=10)\n",
    "\n",
    "# Add legend and title\n",
    "plt.legend(loc=\"upper right\", bbox_to_anchor=(1.3, 1.1))\n",
    "plt.title(\"Radar Chart for Clusters\", fontsize=14)\n",
    "plt.savefig(\"radar_chart.png\", dpi=300, bbox_inches=\"tight\")\n",
    "\n",
    "# Display the chart\n",
    "\n",
    "plt.show()"
   ]
  },
  {
   "cell_type": "code",
   "execution_count": 151,
   "metadata": {},
   "outputs": [],
   "source": [
    "df[\"Frequency_Clustering\"] = kmeans.labels_"
   ]
  },
  {
   "cell_type": "markdown",
   "metadata": {},
   "source": [
    "### Clustering of Monetery"
   ]
  },
  {
   "cell_type": "code",
   "execution_count": 152,
   "metadata": {},
   "outputs": [
    {
     "data": {
      "image/png": "[encoded data removed]",
      "text/plain": [
       "<Figure size 700x500 with 1 Axes>"
      ]
     },
     "metadata": {},
     "output_type": "display_data"
    },
    {
     "data": {
      "image/png": "[encoded data removed]",
      "text/plain": [
       "<Figure size 700x500 with 1 Axes>"
      ]
     },
     "metadata": {},
     "output_type": "display_data"
    }
   ],
   "source": [
    "frequency_data = df[[\"MntFishProducts\",\"MntFruits\",\"MntGoldProds\",\"MntMeatProducts\",\"MntSweetProducts\",\"MntWines\"]]  \n",
    "scaler = MinMaxScaler()\n",
    "scaled_data = scaler.fit_transform(frequency_data)\n",
    "\n",
    "# Step 2: Silhouette and Elbow plots\n",
    "silhouette_scores = []\n",
    "inertia = []\n",
    "cluster_range = range(2, 11)  # Test for clusters from 2 to 10\n",
    "\n",
    "for k in cluster_range:\n",
    "    kmeans = KMeans(n_clusters=k, random_state=42)\n",
    "    labels = kmeans.fit_predict(scaled_data)\n",
    "    inertia.append(kmeans.inertia_)\n",
    "    silhouette_scores.append(silhouette_score(scaled_data, labels))\n",
    "\n",
    "# Plot Elbow Method\n",
    "plt.figure(figsize=(7, 5))\n",
    "plt.plot(cluster_range, inertia, 'bx-')\n",
    "plt.xlabel('Number of Clusters')\n",
    "plt.ylabel('Inertia')\n",
    "plt.title('Elbow Method to Determine Optimal Clusters')\n",
    "plt.show()\n",
    "\n",
    "# Plot Silhouette Scores\n",
    "plt.figure(figsize=(7, 5))\n",
    "plt.plot(cluster_range, silhouette_scores, 'bo-')\n",
    "plt.xlabel('Number of Clusters')\n",
    "plt.ylabel('Silhouette Score')\n",
    "plt.title('Silhouette Scores for Different Cluster Sizes')\n",
    "plt.show()"
   ]
  },
  {
   "cell_type": "code",
   "execution_count": 153,
   "metadata": {},
   "outputs": [
    {
     "name": "stdout",
     "output_type": "stream",
     "text": [
      "Silhouette Score: 0.47578862507608544\n",
      "Calinski-Harabasz Score: 1367.1973871714058\n",
      "Davies-Bouldin Index: 1.3617564801343087\n"
     ]
    }
   ],
   "source": [
    "# Step 3: Clustering using the optimal number of clusters (choose k from the above plots)\n",
    "optimal_k = 3\n",
    "kmeans = KMeans(n_clusters=optimal_k, random_state=42)\n",
    "df['Cluster'] = kmeans.fit_predict(scaled_data)\n",
    "\n",
    "# Step 4: Evaluate Clustering\n",
    "silhouette_avg = silhouette_score(scaled_data, df['Cluster'])\n",
    "calinski_harabasz = calinski_harabasz_score(scaled_data, df['Cluster'])\n",
    "davies_bouldin = davies_bouldin_score(scaled_data, df['Cluster'])\n",
    "\n",
    "print(f\"Silhouette Score: {silhouette_avg}\")\n",
    "print(f\"Calinski-Harabasz Score: {calinski_harabasz}\")\n",
    "print(f\"Davies-Bouldin Index: {davies_bouldin}\")"
   ]
  },
  {
   "cell_type": "code",
   "execution_count": 154,
   "metadata": {},
   "outputs": [],
   "source": [
    "selected_columns = [\"MntFishProducts\",\"MntFruits\",\"MntGoldProds\",\"MntMeatProducts\",\"MntSweetProducts\",\"MntWines\"]\n",
    "\n",
    "# Prepare data for radar plot\n",
    "cluster_centers = pd.DataFrame(kmeans.cluster_centers_, columns=selected_columns)\n",
    "\n",
    "# Normalize cluster centers for radar plot\n",
    "radar_data = pd.concat([cluster_centers], ignore_index = True)"
   ]
  },
  {
   "cell_type": "code",
   "execution_count": 155,
   "metadata": {},
   "outputs": [
    {
     "data": {
      "image/png": "[encoded data removed]",
      "text/plain": [
       "<Figure size 600x600 with 1 Axes>"
      ]
     },
     "metadata": {},
     "output_type": "display_data"
    }
   ],
   "source": [
    "num_clusters = 3\n",
    "categories = selected_columns\n",
    "# Repeat the first value at the end to close the radar chart\n",
    "angles = np.linspace(0, 2 * np.pi, len(categories), endpoint=False).tolist()\n",
    "angles += angles[:1]\n",
    "\n",
    "# Plot each cluster\n",
    "fig, ax = plt.subplots(figsize=(6, 6), subplot_kw=dict(polar=True))\n",
    "\n",
    "for i in range(num_clusters):\n",
    "    values = radar_data.iloc[i].tolist()\n",
    "    values += values[:1]  # Repeat the first value to close the circle\n",
    "    ax.plot(angles, values, label=f\"Cluster {i}\")\n",
    "    ax.fill(angles, values, alpha=0.1)\n",
    "\n",
    "# Add labels\n",
    "ax.set_yticks([0.2, 0.4, 0.6, 0.8, 1.0])\n",
    "ax.set_yticklabels([\"0.2\", \"0.4\", \"0.6\", \"0.8\", \"1.0\"], fontsize=10)\n",
    "ax.set_xticks(angles[:-1])\n",
    "ax.set_xticklabels(categories, fontsize=10)\n",
    "\n",
    "# Add legend and title\n",
    "plt.legend(loc=\"upper right\", bbox_to_anchor=(1.3, 1.1))\n",
    "plt.title(\"Radar Chart for Clusters\", fontsize=14)\n",
    "plt.savefig(\"radar_chart.png\", dpi=300, bbox_inches=\"tight\")\n",
    "\n",
    "# Display the chart\n",
    "\n",
    "plt.show()"
   ]
  },
  {
   "cell_type": "code",
   "execution_count": 156,
   "metadata": {},
   "outputs": [],
   "source": [
    "df[\"Monetary_Clustering\"] = kmeans.labels_"
   ]
  },
  {
   "cell_type": "markdown",
   "metadata": {},
   "source": [
    "## True RFM Analysis"
   ]
  },
  {
   "cell_type": "code",
   "execution_count": 157,
   "metadata": {},
   "outputs": [],
   "source": [
    "df['RFM_Score'] = (\n",
    "    df['Recency_binned'].astype(str)+\n",
    "    df['Frequency_Clustering'].astype(str)+\n",
    "    df['Monetary_Clustering'].astype(str)\n",
    ")"
   ]
  },
  {
   "cell_type": "code",
   "execution_count": 158,
   "metadata": {},
   "outputs": [],
   "source": [
    "def assign_segment(r, f, m):\n",
    "    if r == 1 and f in [1,3] and m >= 1:\n",
    "        return 'Loyal Customers'\n",
    "    elif r == 1 and f in [1,3] and m == 0:\n",
    "        return 'Potential Loyalists'\n",
    "    elif r == 1 and f in [0,2] and m >= 0:\n",
    "        return 'Potential Loyalists'\n",
    "    elif r == 2 and f in [0,1,3] and m >= 1:\n",
    "        return 'Promising'\n",
    "    elif r == 3 and f == 2:\n",
    "        return 'Needs Attention'\n",
    "    else:\n",
    "        return 'Needs Attention'  # Mengganti 'Others' dengan 'Needs Attention'\n",
    "\n",
    "# Menerapkan fungsi untuk membuat kolom baru 'Segment'\n",
    "df['Segment'] = df.apply(lambda row: assign_segment(row['Recency_binned'], row['Frequency_Clustering'], row['Monetary_Clustering']), axis=1)"
   ]
  },
  {
   "cell_type": "markdown",
   "metadata": {},
   "source": [
    "### Analysis of Segments"
   ]
  },
  {
   "cell_type": "code",
   "execution_count": 159,
   "metadata": {},
   "outputs": [
    {
     "name": "stderr",
     "output_type": "stream",
     "text": [
      "C:\\Users\\Asem\\AppData\\Local\\Temp\\ipykernel_4592\\1147935184.py:2: FutureWarning: \n",
      "\n",
      "Passing `palette` without assigning `hue` is deprecated and will be removed in v0.14.0. Assign the `x` variable to `hue` and set `legend=False` for the same effect.\n",
      "\n",
      "  sns.countplot(x='Segment', data=df, palette='pastel', order=df['Segment'].value_counts().index)\n"
     ]
    },
    {
     "data": {
      "image/png": "[encoded data removed]",
      "text/plain": [
       "<Figure size 800x500 with 1 Axes>"
      ]
     },
     "metadata": {},
     "output_type": "display_data"
    }
   ],
   "source": [
    "plt.figure(figsize=(8, 5))\n",
    "sns.countplot(x='Segment', data=df, palette='pastel', order=df['Segment'].value_counts().index)\n",
    "plt.title(\"Customer Count by Segment\", fontsize=16, fontweight=\"bold\")\n",
    "plt.xlabel(\"Segment\", fontsize=12)\n",
    "plt.ylabel(\"Customer Count\", fontsize=12)\n",
    "plt.xticks(rotation=45)\n",
    "plt.show()"
   ]
  },
  {
   "cell_type": "code",
   "execution_count": 160,
   "metadata": {},
   "outputs": [
    {
     "data": {
      "image/png": "[encoded data removed]",
      "text/plain": [
       "<Figure size 800x800 with 1 Axes>"
      ]
     },
     "metadata": {},
     "output_type": "display_data"
    }
   ],
   "source": [
    "df['Recency_binned'] = df['Recency_binned'].astype(int)\n",
    "df['Frequency_Clustering'] = df['Frequency_Clustering'].astype(int)\n",
    "df['Monetary_Clustering'] = df['Monetary_Clustering'].astype(int)\n",
    "\n",
    "rfm_avg = df.groupby('Segment')[['Recency_binned', 'Frequency_Clustering', 'Monetary_Clustering']].mean().reset_index()\n",
    "categories = ['Recency', 'Frequency', 'Monetary']\n",
    "num_vars = len(categories)\n",
    "\n",
    "plt.figure(figsize=(8, 8))\n",
    "for i, row in rfm_avg.iterrows():\n",
    "    values = row[1:].tolist() + [row[1]]  # Repeat first value to close the radar chart\n",
    "    angles = [n / float(num_vars) * 2 * pi for n in range(num_vars)] + [0]\n",
    "    plt.polar(angles, values, label=row['Segment'], alpha=0.6)\n",
    "\n",
    "plt.title(\"Radar Chart of RFM Averages by Segment\", fontsize=16, fontweight=\"bold\")\n",
    "plt.legend(loc='upper right', bbox_to_anchor=(1.3, 1.1))\n",
    "plt.show()"
   ]
  },
  {
   "cell_type": "code",
   "execution_count": 161,
   "metadata": {},
   "outputs": [
    {
     "data": {
      "text/html": [
       "<div>\n",
       "<style scoped>\n",
       "    .dataframe tbody tr th:only-of-type {\n",
       "        vertical-align: middle;\n",
       "    }\n",
       "\n",
       "    .dataframe tbody tr th {\n",
       "        vertical-align: top;\n",
       "    }\n",
       "\n",
       "    .dataframe thead th {\n",
       "        text-align: right;\n",
       "    }\n",
       "</style>\n",
       "<table border=\"1\" class=\"dataframe\">\n",
       "  <thead>\n",
       "    <tr style=\"text-align: right;\">\n",
       "      <th></th>\n",
       "      <th>ID</th>\n",
       "      <th>Year_Birth</th>\n",
       "      <th>Education</th>\n",
       "      <th>Marital_Status</th>\n",
       "      <th>Income</th>\n",
       "      <th>Kidhome</th>\n",
       "      <th>Teenhome</th>\n",
       "      <th>Dt_Customer</th>\n",
       "      <th>Recency</th>\n",
       "      <th>MntWines</th>\n",
       "      <th>MntFruits</th>\n",
       "      <th>MntMeatProducts</th>\n",
       "      <th>MntFishProducts</th>\n",
       "      <th>MntSweetProducts</th>\n",
       "      <th>MntGoldProds</th>\n",
       "      <th>NumDealsPurchases</th>\n",
       "      <th>NumWebPurchases</th>\n",
       "      <th>NumCatalogPurchases</th>\n",
       "      <th>NumStorePurchases</th>\n",
       "      <th>NumWebVisitsMonth</th>\n",
       "      <th>AcceptedCmp3</th>\n",
       "      <th>AcceptedCmp4</th>\n",
       "      <th>AcceptedCmp5</th>\n",
       "      <th>AcceptedCmp1</th>\n",
       "      <th>AcceptedCmp2</th>\n",
       "      <th>Response</th>\n",
       "      <th>Complain</th>\n",
       "      <th>Country</th>\n",
       "      <th>Recency_binned</th>\n",
       "      <th>Monetary</th>\n",
       "      <th>Frequency_Purchase</th>\n",
       "      <th>Cluster</th>\n",
       "      <th>Frequency_Clustering</th>\n",
       "      <th>Monetary_Clustering</th>\n",
       "      <th>RFM_Score</th>\n",
       "      <th>Segment</th>\n",
       "    </tr>\n",
       "  </thead>\n",
       "  <tbody>\n",
       "    <tr>\n",
       "      <th>1865</th>\n",
       "      <td>10868</td>\n",
       "      <td>1951</td>\n",
       "      <td>Graduation</td>\n",
       "      <td>Widow</td>\n",
       "      <td>70792.0</td>\n",
       "      <td>0</td>\n",
       "      <td>0</td>\n",
       "      <td>2013-02-06</td>\n",
       "      <td>82</td>\n",
       "      <td>344</td>\n",
       "      <td>45</td>\n",
       "      <td>654</td>\n",
       "      <td>104</td>\n",
       "      <td>11</td>\n",
       "      <td>114</td>\n",
       "      <td>2</td>\n",
       "      <td>3</td>\n",
       "      <td>4</td>\n",
       "      <td>10</td>\n",
       "      <td>3</td>\n",
       "      <td>0</td>\n",
       "      <td>0</td>\n",
       "      <td>0</td>\n",
       "      <td>0</td>\n",
       "      <td>0</td>\n",
       "      <td>0</td>\n",
       "      <td>0</td>\n",
       "      <td>Spain</td>\n",
       "      <td>3</td>\n",
       "      <td>1272</td>\n",
       "      <td>19</td>\n",
       "      <td>2</td>\n",
       "      <td>1</td>\n",
       "      <td>2</td>\n",
       "      <td>312</td>\n",
       "      <td>Needs Attention</td>\n",
       "    </tr>\n",
       "    <tr>\n",
       "      <th>298</th>\n",
       "      <td>7793</td>\n",
       "      <td>1976</td>\n",
       "      <td>Graduation</td>\n",
       "      <td>Together</td>\n",
       "      <td>62061.0</td>\n",
       "      <td>0</td>\n",
       "      <td>1</td>\n",
       "      <td>2013-08-31</td>\n",
       "      <td>12</td>\n",
       "      <td>641</td>\n",
       "      <td>7</td>\n",
       "      <td>84</td>\n",
       "      <td>0</td>\n",
       "      <td>30</td>\n",
       "      <td>38</td>\n",
       "      <td>3</td>\n",
       "      <td>10</td>\n",
       "      <td>4</td>\n",
       "      <td>7</td>\n",
       "      <td>6</td>\n",
       "      <td>0</td>\n",
       "      <td>1</td>\n",
       "      <td>0</td>\n",
       "      <td>0</td>\n",
       "      <td>0</td>\n",
       "      <td>0</td>\n",
       "      <td>0</td>\n",
       "      <td>Spain</td>\n",
       "      <td>1</td>\n",
       "      <td>800</td>\n",
       "      <td>24</td>\n",
       "      <td>1</td>\n",
       "      <td>0</td>\n",
       "      <td>1</td>\n",
       "      <td>101</td>\n",
       "      <td>Potential Loyalists</td>\n",
       "    </tr>\n",
       "    <tr>\n",
       "      <th>2128</th>\n",
       "      <td>9553</td>\n",
       "      <td>1987</td>\n",
       "      <td>Graduation</td>\n",
       "      <td>Married</td>\n",
       "      <td>7500.0</td>\n",
       "      <td>0</td>\n",
       "      <td>0</td>\n",
       "      <td>2013-01-09</td>\n",
       "      <td>94</td>\n",
       "      <td>0</td>\n",
       "      <td>2</td>\n",
       "      <td>3</td>\n",
       "      <td>4</td>\n",
       "      <td>1</td>\n",
       "      <td>5</td>\n",
       "      <td>1</td>\n",
       "      <td>0</td>\n",
       "      <td>0</td>\n",
       "      <td>3</td>\n",
       "      <td>6</td>\n",
       "      <td>0</td>\n",
       "      <td>0</td>\n",
       "      <td>0</td>\n",
       "      <td>0</td>\n",
       "      <td>0</td>\n",
       "      <td>0</td>\n",
       "      <td>0</td>\n",
       "      <td>India</td>\n",
       "      <td>3</td>\n",
       "      <td>15</td>\n",
       "      <td>4</td>\n",
       "      <td>0</td>\n",
       "      <td>2</td>\n",
       "      <td>0</td>\n",
       "      <td>320</td>\n",
       "      <td>Needs Attention</td>\n",
       "    </tr>\n",
       "    <tr>\n",
       "      <th>2222</th>\n",
       "      <td>10001</td>\n",
       "      <td>1985</td>\n",
       "      <td>2n Cycle</td>\n",
       "      <td>Together</td>\n",
       "      <td>7500.0</td>\n",
       "      <td>1</td>\n",
       "      <td>0</td>\n",
       "      <td>2012-08-01</td>\n",
       "      <td>98</td>\n",
       "      <td>5</td>\n",
       "      <td>17</td>\n",
       "      <td>17</td>\n",
       "      <td>13</td>\n",
       "      <td>14</td>\n",
       "      <td>34</td>\n",
       "      <td>4</td>\n",
       "      <td>2</td>\n",
       "      <td>1</td>\n",
       "      <td>3</td>\n",
       "      <td>9</td>\n",
       "      <td>0</td>\n",
       "      <td>0</td>\n",
       "      <td>0</td>\n",
       "      <td>0</td>\n",
       "      <td>0</td>\n",
       "      <td>0</td>\n",
       "      <td>0</td>\n",
       "      <td>Spain</td>\n",
       "      <td>3</td>\n",
       "      <td>100</td>\n",
       "      <td>10</td>\n",
       "      <td>0</td>\n",
       "      <td>2</td>\n",
       "      <td>0</td>\n",
       "      <td>320</td>\n",
       "      <td>Needs Attention</td>\n",
       "    </tr>\n",
       "    <tr>\n",
       "      <th>1013</th>\n",
       "      <td>2561</td>\n",
       "      <td>1966</td>\n",
       "      <td>Graduation</td>\n",
       "      <td>Single</td>\n",
       "      <td>63810.0</td>\n",
       "      <td>0</td>\n",
       "      <td>1</td>\n",
       "      <td>2012-11-11</td>\n",
       "      <td>45</td>\n",
       "      <td>977</td>\n",
       "      <td>12</td>\n",
       "      <td>253</td>\n",
       "      <td>16</td>\n",
       "      <td>12</td>\n",
       "      <td>101</td>\n",
       "      <td>4</td>\n",
       "      <td>4</td>\n",
       "      <td>3</td>\n",
       "      <td>12</td>\n",
       "      <td>8</td>\n",
       "      <td>0</td>\n",
       "      <td>1</td>\n",
       "      <td>0</td>\n",
       "      <td>0</td>\n",
       "      <td>0</td>\n",
       "      <td>0</td>\n",
       "      <td>0</td>\n",
       "      <td>Germany</td>\n",
       "      <td>2</td>\n",
       "      <td>1371</td>\n",
       "      <td>23</td>\n",
       "      <td>1</td>\n",
       "      <td>1</td>\n",
       "      <td>1</td>\n",
       "      <td>211</td>\n",
       "      <td>Promising</td>\n",
       "    </tr>\n",
       "    <tr>\n",
       "      <th>1169</th>\n",
       "      <td>6575</td>\n",
       "      <td>1981</td>\n",
       "      <td>Graduation</td>\n",
       "      <td>Together</td>\n",
       "      <td>56386.0</td>\n",
       "      <td>1</td>\n",
       "      <td>1</td>\n",
       "      <td>2012-10-27</td>\n",
       "      <td>51</td>\n",
       "      <td>230</td>\n",
       "      <td>48</td>\n",
       "      <td>214</td>\n",
       "      <td>13</td>\n",
       "      <td>32</td>\n",
       "      <td>75</td>\n",
       "      <td>8</td>\n",
       "      <td>9</td>\n",
       "      <td>1</td>\n",
       "      <td>7</td>\n",
       "      <td>9</td>\n",
       "      <td>0</td>\n",
       "      <td>0</td>\n",
       "      <td>0</td>\n",
       "      <td>0</td>\n",
       "      <td>0</td>\n",
       "      <td>0</td>\n",
       "      <td>0</td>\n",
       "      <td>Saudi Arabia</td>\n",
       "      <td>2</td>\n",
       "      <td>612</td>\n",
       "      <td>25</td>\n",
       "      <td>0</td>\n",
       "      <td>3</td>\n",
       "      <td>0</td>\n",
       "      <td>230</td>\n",
       "      <td>Needs Attention</td>\n",
       "    </tr>\n",
       "    <tr>\n",
       "      <th>1393</th>\n",
       "      <td>2802</td>\n",
       "      <td>1992</td>\n",
       "      <td>2n Cycle</td>\n",
       "      <td>Married</td>\n",
       "      <td>87000.0</td>\n",
       "      <td>0</td>\n",
       "      <td>0</td>\n",
       "      <td>2012-12-15</td>\n",
       "      <td>61</td>\n",
       "      <td>196</td>\n",
       "      <td>25</td>\n",
       "      <td>607</td>\n",
       "      <td>67</td>\n",
       "      <td>17</td>\n",
       "      <td>49</td>\n",
       "      <td>1</td>\n",
       "      <td>4</td>\n",
       "      <td>6</td>\n",
       "      <td>7</td>\n",
       "      <td>2</td>\n",
       "      <td>0</td>\n",
       "      <td>0</td>\n",
       "      <td>0</td>\n",
       "      <td>0</td>\n",
       "      <td>0</td>\n",
       "      <td>0</td>\n",
       "      <td>0</td>\n",
       "      <td>Australia</td>\n",
       "      <td>2</td>\n",
       "      <td>961</td>\n",
       "      <td>18</td>\n",
       "      <td>0</td>\n",
       "      <td>0</td>\n",
       "      <td>0</td>\n",
       "      <td>200</td>\n",
       "      <td>Needs Attention</td>\n",
       "    </tr>\n",
       "    <tr>\n",
       "      <th>1328</th>\n",
       "      <td>4988</td>\n",
       "      <td>1948</td>\n",
       "      <td>PhD</td>\n",
       "      <td>Married</td>\n",
       "      <td>34469.0</td>\n",
       "      <td>1</td>\n",
       "      <td>1</td>\n",
       "      <td>2014-05-04</td>\n",
       "      <td>58</td>\n",
       "      <td>19</td>\n",
       "      <td>6</td>\n",
       "      <td>20</td>\n",
       "      <td>0</td>\n",
       "      <td>5</td>\n",
       "      <td>12</td>\n",
       "      <td>3</td>\n",
       "      <td>1</td>\n",
       "      <td>1</td>\n",
       "      <td>4</td>\n",
       "      <td>4</td>\n",
       "      <td>0</td>\n",
       "      <td>0</td>\n",
       "      <td>0</td>\n",
       "      <td>0</td>\n",
       "      <td>0</td>\n",
       "      <td>0</td>\n",
       "      <td>0</td>\n",
       "      <td>Saudi Arabia</td>\n",
       "      <td>2</td>\n",
       "      <td>62</td>\n",
       "      <td>9</td>\n",
       "      <td>0</td>\n",
       "      <td>2</td>\n",
       "      <td>0</td>\n",
       "      <td>220</td>\n",
       "      <td>Needs Attention</td>\n",
       "    </tr>\n",
       "    <tr>\n",
       "      <th>129</th>\n",
       "      <td>10177</td>\n",
       "      <td>1954</td>\n",
       "      <td>Graduation</td>\n",
       "      <td>Divorced</td>\n",
       "      <td>72071.0</td>\n",
       "      <td>0</td>\n",
       "      <td>1</td>\n",
       "      <td>2013-02-14</td>\n",
       "      <td>4</td>\n",
       "      <td>531</td>\n",
       "      <td>69</td>\n",
       "      <td>300</td>\n",
       "      <td>150</td>\n",
       "      <td>138</td>\n",
       "      <td>150</td>\n",
       "      <td>3</td>\n",
       "      <td>5</td>\n",
       "      <td>4</td>\n",
       "      <td>8</td>\n",
       "      <td>2</td>\n",
       "      <td>0</td>\n",
       "      <td>0</td>\n",
       "      <td>0</td>\n",
       "      <td>0</td>\n",
       "      <td>0</td>\n",
       "      <td>0</td>\n",
       "      <td>0</td>\n",
       "      <td>Spain</td>\n",
       "      <td>1</td>\n",
       "      <td>1338</td>\n",
       "      <td>20</td>\n",
       "      <td>2</td>\n",
       "      <td>0</td>\n",
       "      <td>2</td>\n",
       "      <td>102</td>\n",
       "      <td>Potential Loyalists</td>\n",
       "    </tr>\n",
       "    <tr>\n",
       "      <th>1768</th>\n",
       "      <td>2607</td>\n",
       "      <td>1953</td>\n",
       "      <td>Graduation</td>\n",
       "      <td>Single</td>\n",
       "      <td>40464.0</td>\n",
       "      <td>0</td>\n",
       "      <td>1</td>\n",
       "      <td>2013-01-11</td>\n",
       "      <td>78</td>\n",
       "      <td>424</td>\n",
       "      <td>17</td>\n",
       "      <td>118</td>\n",
       "      <td>7</td>\n",
       "      <td>23</td>\n",
       "      <td>41</td>\n",
       "      <td>6</td>\n",
       "      <td>8</td>\n",
       "      <td>2</td>\n",
       "      <td>8</td>\n",
       "      <td>8</td>\n",
       "      <td>0</td>\n",
       "      <td>0</td>\n",
       "      <td>0</td>\n",
       "      <td>0</td>\n",
       "      <td>0</td>\n",
       "      <td>0</td>\n",
       "      <td>0</td>\n",
       "      <td>Spain</td>\n",
       "      <td>3</td>\n",
       "      <td>630</td>\n",
       "      <td>24</td>\n",
       "      <td>0</td>\n",
       "      <td>3</td>\n",
       "      <td>0</td>\n",
       "      <td>330</td>\n",
       "      <td>Needs Attention</td>\n",
       "    </tr>\n",
       "  </tbody>\n",
       "</table>\n",
       "</div>"
      ],
      "text/plain": [
       "         ID  Year_Birth   Education Marital_Status   Income   Kidhome  \\\n",
       "1865  10868        1951  Graduation          Widow   70792.0        0   \n",
       "298    7793        1976  Graduation       Together   62061.0        0   \n",
       "2128   9553        1987  Graduation        Married    7500.0        0   \n",
       "2222  10001        1985    2n Cycle       Together    7500.0        1   \n",
       "1013   2561        1966  Graduation         Single   63810.0        0   \n",
       "1169   6575        1981  Graduation       Together   56386.0        1   \n",
       "1393   2802        1992    2n Cycle        Married   87000.0        0   \n",
       "1328   4988        1948         PhD        Married   34469.0        1   \n",
       "129   10177        1954  Graduation       Divorced   72071.0        0   \n",
       "1768   2607        1953  Graduation         Single   40464.0        0   \n",
       "\n",
       "      Teenhome Dt_Customer  Recency  MntWines  MntFruits  MntMeatProducts  \\\n",
       "1865         0  2013-02-06       82       344         45              654   \n",
       "298          1  2013-08-31       12       641          7               84   \n",
       "2128         0  2013-01-09       94         0          2                3   \n",
       "2222         0  2012-08-01       98         5         17               17   \n",
       "1013         1  2012-11-11       45       977         12              253   \n",
       "1169         1  2012-10-27       51       230         48              214   \n",
       "1393         0  2012-12-15       61       196         25              607   \n",
       "1328         1  2014-05-04       58        19          6               20   \n",
       "129          1  2013-02-14        4       531         69              300   \n",
       "1768         1  2013-01-11       78       424         17              118   \n",
       "\n",
       "      MntFishProducts  MntSweetProducts  MntGoldProds  NumDealsPurchases  \\\n",
       "1865              104                11           114                  2   \n",
       "298                 0                30            38                  3   \n",
       "2128                4                 1             5                  1   \n",
       "2222               13                14            34                  4   \n",
       "1013               16                12           101                  4   \n",
       "1169               13                32            75                  8   \n",
       "1393               67                17            49                  1   \n",
       "1328                0                 5            12                  3   \n",
       "129               150               138           150                  3   \n",
       "1768                7                23            41                  6   \n",
       "\n",
       "      NumWebPurchases  NumCatalogPurchases  NumStorePurchases  \\\n",
       "1865                3                    4                 10   \n",
       "298                10                    4                  7   \n",
       "2128                0                    0                  3   \n",
       "2222                2                    1                  3   \n",
       "1013                4                    3                 12   \n",
       "1169                9                    1                  7   \n",
       "1393                4                    6                  7   \n",
       "1328                1                    1                  4   \n",
       "129                 5                    4                  8   \n",
       "1768                8                    2                  8   \n",
       "\n",
       "      NumWebVisitsMonth  AcceptedCmp3  AcceptedCmp4  AcceptedCmp5  \\\n",
       "1865                  3             0             0             0   \n",
       "298                   6             0             1             0   \n",
       "2128                  6             0             0             0   \n",
       "2222                  9             0             0             0   \n",
       "1013                  8             0             1             0   \n",
       "1169                  9             0             0             0   \n",
       "1393                  2             0             0             0   \n",
       "1328                  4             0             0             0   \n",
       "129                   2             0             0             0   \n",
       "1768                  8             0             0             0   \n",
       "\n",
       "      AcceptedCmp1  AcceptedCmp2  Response  Complain       Country  \\\n",
       "1865             0             0         0         0         Spain   \n",
       "298              0             0         0         0         Spain   \n",
       "2128             0             0         0         0         India   \n",
       "2222             0             0         0         0         Spain   \n",
       "1013             0             0         0         0       Germany   \n",
       "1169             0             0         0         0  Saudi Arabia   \n",
       "1393             0             0         0         0     Australia   \n",
       "1328             0             0         0         0  Saudi Arabia   \n",
       "129              0             0         0         0         Spain   \n",
       "1768             0             0         0         0         Spain   \n",
       "\n",
       "      Recency_binned  Monetary  Frequency_Purchase  Cluster  \\\n",
       "1865               3      1272                  19        2   \n",
       "298                1       800                  24        1   \n",
       "2128               3        15                   4        0   \n",
       "2222               3       100                  10        0   \n",
       "1013               2      1371                  23        1   \n",
       "1169               2       612                  25        0   \n",
       "1393               2       961                  18        0   \n",
       "1328               2        62                   9        0   \n",
       "129                1      1338                  20        2   \n",
       "1768               3       630                  24        0   \n",
       "\n",
       "      Frequency_Clustering  Monetary_Clustering RFM_Score              Segment  \n",
       "1865                     1                    2       312      Needs Attention  \n",
       "298                      0                    1       101  Potential Loyalists  \n",
       "2128                     2                    0       320      Needs Attention  \n",
       "2222                     2                    0       320      Needs Attention  \n",
       "1013                     1                    1       211            Promising  \n",
       "1169                     3                    0       230      Needs Attention  \n",
       "1393                     0                    0       200      Needs Attention  \n",
       "1328                     2                    0       220      Needs Attention  \n",
       "129                      0                    2       102  Potential Loyalists  \n",
       "1768                     3                    0       330      Needs Attention  "
      ]
     },
     "execution_count": 161,
     "metadata": {},
     "output_type": "execute_result"
    }
   ],
   "source": [
    "df.sample(10)"
   ]
  },
  {
   "cell_type": "markdown",
   "metadata": {},
   "source": [
    "## Analysis for Each Combination of RFM"
   ]
  },
  {
   "cell_type": "code",
   "execution_count": 162,
   "metadata": {
    "colab": {
     "base_uri": "https://localhost:8080/"
    },
    "id": "NdMM0G6xMev8",
    "outputId": "7eef9124-eb70-4584-cc40-c1b0449b11eb"
   },
   "outputs": [],
   "source": [
    "r_mapping = {\n",
    "    1: \"Recent Customer\",\n",
    "    2: \"Moderately Recent\",\n",
    "    3: \"Least Recent\"\n",
    "}\n",
    "\n",
    "f_mapping = {\n",
    "    2: \"Least Buying\",\n",
    "    0: \"Moderate Buyer\",\n",
    "    1: \"Best Buyer (Web)\",\n",
    "    3: \"Best Buyer (Deals)\"\n",
    "}\n",
    "\n",
    "m_mapping = {\n",
    "    0: \"Low Spending\",\n",
    "    1: \"Moderate Spending\",\n",
    "    2: \"High Spending\"\n",
    "}\n",
    "\n",
    "df['Customer_Profile'] = df.apply(\n",
    "    lambda row: f\"{r_mapping[row['Recency_binned']]} - {f_mapping[row['Frequency_Clustering']]} - {m_mapping[row['Monetary_Clustering']]}\",\n",
    "    axis=1\n",
    ")"
   ]
  },
  {
   "cell_type": "code",
   "execution_count": 166,
   "metadata": {},
   "outputs": [
    {
     "data": {
      "text/plain": [
       "3"
      ]
     },
     "execution_count": 166,
     "metadata": {},
     "output_type": "execute_result"
    }
   ],
   "source": [
    "len(df[\"Monetary_Clustering\"].unique())"
   ]
  },
  {
   "cell_type": "code",
   "execution_count": 116,
   "metadata": {},
   "outputs": [],
   "source": [
    "loyalists = ['Recent Customer - Best Buyer (Web) - Moderate Spending',\n",
    "       'Recent Customer - Best Buyer (Web) - High Spending',\n",
    "       'Recent Customer - Best Buyer (Deals) - Moderate Spending',\n",
    "       'Recent Customer - Best Buyer (Deals) - High Spending']\n",
    "\n",
    "potential = ['Recent Customer - Moderate Buyer - High Spending',\n",
    "       'Recent Customer - Moderate Buyer - Low Spending',\n",
    "       'Recent Customer - Least Buying - Low Spending',\n",
    "       'Recent Customer - Moderate Buyer - Moderate Spending',\n",
    "       'Recent Customer - Best Buyer (Web) - Low Spending',\n",
    "       'Recent Customer - Best Buyer (Deals) - Low Spending',\n",
    "       'Recent Customer - Least Buying - Moderate Spending',\n",
    "       'Moderately Recent - Best Buyer (Web) - High Spending',\n",
    "       'Moderately Recent - Best Buyer (Web) - Moderate Spending',\n",
    "       'Moderately Recent - Moderate Buyer - High Spending',\n",
    "       'Moderately Recent - Best Buyer (Deals) - Moderate Spending',\n",
    "       'Moderately Recent - Moderate Buyer - Moderate Spending',\n",
    "       'Moderately Recent - Best Buyer (Deals) - High Spending',\n",
    "       'Least Recent - Best Buyer (Web) - High Spending']\n",
    "\n",
    "needs_attention = ['Least Recent - Moderate Buyer - High Spending',\n",
    "                   'Least Recent - Best Buyer (Deals) - High Spending',\n",
    "                   'Least Recent - Best Buyer (Web) - Moderate Spending',\n",
    "                   'Moderately Recent - Best Buyer (Deals) - Low Spending',\n",
    "                   'Moderately Recent - Least Buying - Moderate Spending',\n",
    "                   'Moderately Recent - Best Buyer (Web) - Low Spending',\n",
    "                   'Least Recent - Best Buyer (Deals) - Low Spending',\n",
    "                   'Least Recent - Best Buyer (Web) - High Spending',\n",
    "                   'Least Recent - Best Buyer (Web) - Moderate Spending',\n",
    "                   'Least Recent - Moderate Buyer - Moderate Spending',\n",
    "                   'Least Recent - Best Buyer (Web) - Low Spending'\n",
    "                   ]\n",
    "\n",
    "lost = ['Least Recent - Least Buying - Low Spending',\n",
    "        'Least Recent - Moderate Buyer - Low Spending',\n",
    "        'Least Recent - Least Buying - Moderate Spending',\n",
    "        'Moderately Recent - Least Buying - Low Spending',\n",
    "        'Least Recent - Least Buying - Moderate Spending'\n",
    "        ]"
   ]
  },
  {
   "cell_type": "code",
   "execution_count": 120,
   "metadata": {},
   "outputs": [
    {
     "data": {
      "text/plain": [
       "34"
      ]
     },
     "execution_count": 120,
     "metadata": {},
     "output_type": "execute_result"
    }
   ],
   "source": [
    "len(loyalists+lost+needs_attention+potential)"
   ]
  },
  {
   "cell_type": "code",
   "execution_count": 124,
   "metadata": {
    "id": "nnwWwLNeNWFW"
   },
   "outputs": [
    {
     "data": {
      "text/plain": [
       "16"
      ]
     },
     "execution_count": 124,
     "metadata": {},
     "output_type": "execute_result"
    }
   ],
   "source": [
    "len(df[df[\"Segment\"] == \"Needs Attention\"][\"Customer_Profile\"].unique())"
   ]
  },
  {
   "cell_type": "markdown",
   "metadata": {},
   "source": [
    "Needs Attention berisi pelanggan:\n",
    "\n",
    "Moderately Recent dan Least Recent dengan mayoritas least buying dan least spending"
   ]
  },
  {
   "cell_type": "code",
   "execution_count": 125,
   "metadata": {},
   "outputs": [
    {
     "data": {
      "text/plain": [
       "4"
      ]
     },
     "execution_count": 125,
     "metadata": {},
     "output_type": "execute_result"
    }
   ],
   "source": [
    "len(df[df[\"Segment\"] == \"Loyal Customers\"][\"Customer_Profile\"].unique())"
   ]
  },
  {
   "cell_type": "markdown",
   "metadata": {},
   "source": [
    "Loyal customer berisi pelanggan:\n",
    "\n",
    "Recent customer yang membeli paling banyak dan spend paling banyak"
   ]
  },
  {
   "cell_type": "code",
   "execution_count": 126,
   "metadata": {},
   "outputs": [
    {
     "data": {
      "text/plain": [
       "7"
      ]
     },
     "execution_count": 126,
     "metadata": {},
     "output_type": "execute_result"
    }
   ],
   "source": [
    "len(df[df[\"Segment\"] == \"Potential Loyalists\"][\"Customer_Profile\"].unique())"
   ]
  },
  {
   "cell_type": "code",
   "execution_count": 127,
   "metadata": {},
   "outputs": [
    {
     "data": {
      "text/plain": [
       "6"
      ]
     },
     "execution_count": 127,
     "metadata": {},
     "output_type": "execute_result"
    }
   ],
   "source": [
    "len(df[df[\"Segment\"] == \"Promising\"][\"Customer_Profile\"].unique())"
   ]
  },
  {
   "cell_type": "code",
   "execution_count": 35,
   "metadata": {
    "colab": {
     "base_uri": "https://localhost:8080/",
     "height": 400
    },
    "id": "aLUgnRWNMIHD",
    "outputId": "ea67df26-3176-4cf2-d7eb-924c2c328e4f"
   },
   "outputs": [
    {
     "data": {
      "text/html": [
       "<div>\n",
       "<style scoped>\n",
       "    .dataframe tbody tr th:only-of-type {\n",
       "        vertical-align: middle;\n",
       "    }\n",
       "\n",
       "    .dataframe tbody tr th {\n",
       "        vertical-align: top;\n",
       "    }\n",
       "\n",
       "    .dataframe thead th {\n",
       "        text-align: right;\n",
       "    }\n",
       "</style>\n",
       "<table border=\"1\" class=\"dataframe\">\n",
       "  <thead>\n",
       "    <tr style=\"text-align: right;\">\n",
       "      <th></th>\n",
       "      <th>ID</th>\n",
       "      <th>Year_Birth</th>\n",
       "      <th>Education</th>\n",
       "      <th>Marital_Status</th>\n",
       "      <th>Income</th>\n",
       "      <th>Kidhome</th>\n",
       "      <th>Teenhome</th>\n",
       "      <th>Dt_Customer</th>\n",
       "      <th>Recency</th>\n",
       "      <th>MntWines</th>\n",
       "      <th>MntFruits</th>\n",
       "      <th>MntMeatProducts</th>\n",
       "      <th>MntFishProducts</th>\n",
       "      <th>MntSweetProducts</th>\n",
       "      <th>MntGoldProds</th>\n",
       "      <th>NumDealsPurchases</th>\n",
       "      <th>NumWebPurchases</th>\n",
       "      <th>NumCatalogPurchases</th>\n",
       "      <th>NumStorePurchases</th>\n",
       "      <th>NumWebVisitsMonth</th>\n",
       "      <th>AcceptedCmp3</th>\n",
       "      <th>AcceptedCmp4</th>\n",
       "      <th>AcceptedCmp5</th>\n",
       "      <th>AcceptedCmp1</th>\n",
       "      <th>AcceptedCmp2</th>\n",
       "      <th>Response</th>\n",
       "      <th>Complain</th>\n",
       "      <th>Country</th>\n",
       "      <th>Recency_binned</th>\n",
       "      <th>Monetary</th>\n",
       "      <th>Frequency_Purchase</th>\n",
       "      <th>Cluster</th>\n",
       "      <th>Frequency_Clustering</th>\n",
       "      <th>Monetary_Clustering</th>\n",
       "      <th>RFM_Score</th>\n",
       "      <th>Segment</th>\n",
       "      <th>Customer_Profile</th>\n",
       "    </tr>\n",
       "  </thead>\n",
       "  <tbody>\n",
       "    <tr>\n",
       "      <th>963</th>\n",
       "      <td>4324</td>\n",
       "      <td>1989</td>\n",
       "      <td>Graduation</td>\n",
       "      <td>Married</td>\n",
       "      <td>42387.0</td>\n",
       "      <td>1</td>\n",
       "      <td>0</td>\n",
       "      <td>2012-10-29</td>\n",
       "      <td>42</td>\n",
       "      <td>235</td>\n",
       "      <td>0</td>\n",
       "      <td>235</td>\n",
       "      <td>19</td>\n",
       "      <td>4</td>\n",
       "      <td>191</td>\n",
       "      <td>5</td>\n",
       "      <td>8</td>\n",
       "      <td>1</td>\n",
       "      <td>7</td>\n",
       "      <td>8</td>\n",
       "      <td>0</td>\n",
       "      <td>0</td>\n",
       "      <td>0</td>\n",
       "      <td>0</td>\n",
       "      <td>0</td>\n",
       "      <td>0</td>\n",
       "      <td>0</td>\n",
       "      <td>Spain</td>\n",
       "      <td>2</td>\n",
       "      <td>684</td>\n",
       "      <td>21</td>\n",
       "      <td>0</td>\n",
       "      <td>3</td>\n",
       "      <td>0</td>\n",
       "      <td>230</td>\n",
       "      <td>Needs Attention</td>\n",
       "      <td>Moderately Recent - Best Buyer (Deals) - Low S...</td>\n",
       "    </tr>\n",
       "    <tr>\n",
       "      <th>2203</th>\n",
       "      <td>8541</td>\n",
       "      <td>1990</td>\n",
       "      <td>2n Cycle</td>\n",
       "      <td>Married</td>\n",
       "      <td>24683.0</td>\n",
       "      <td>1</td>\n",
       "      <td>0</td>\n",
       "      <td>2014-03-08</td>\n",
       "      <td>98</td>\n",
       "      <td>8</td>\n",
       "      <td>4</td>\n",
       "      <td>10</td>\n",
       "      <td>6</td>\n",
       "      <td>7</td>\n",
       "      <td>6</td>\n",
       "      <td>2</td>\n",
       "      <td>2</td>\n",
       "      <td>0</td>\n",
       "      <td>4</td>\n",
       "      <td>5</td>\n",
       "      <td>0</td>\n",
       "      <td>0</td>\n",
       "      <td>0</td>\n",
       "      <td>0</td>\n",
       "      <td>0</td>\n",
       "      <td>0</td>\n",
       "      <td>0</td>\n",
       "      <td>Spain</td>\n",
       "      <td>3</td>\n",
       "      <td>41</td>\n",
       "      <td>8</td>\n",
       "      <td>0</td>\n",
       "      <td>2</td>\n",
       "      <td>0</td>\n",
       "      <td>320</td>\n",
       "      <td>Needs Attention</td>\n",
       "      <td>Least Recent - Least Buying - Low Spending</td>\n",
       "    </tr>\n",
       "    <tr>\n",
       "      <th>824</th>\n",
       "      <td>10757</td>\n",
       "      <td>1967</td>\n",
       "      <td>PhD</td>\n",
       "      <td>Divorced</td>\n",
       "      <td>28420.0</td>\n",
       "      <td>1</td>\n",
       "      <td>0</td>\n",
       "      <td>2013-12-24</td>\n",
       "      <td>36</td>\n",
       "      <td>4</td>\n",
       "      <td>2</td>\n",
       "      <td>5</td>\n",
       "      <td>2</td>\n",
       "      <td>0</td>\n",
       "      <td>0</td>\n",
       "      <td>1</td>\n",
       "      <td>1</td>\n",
       "      <td>0</td>\n",
       "      <td>2</td>\n",
       "      <td>6</td>\n",
       "      <td>0</td>\n",
       "      <td>0</td>\n",
       "      <td>0</td>\n",
       "      <td>0</td>\n",
       "      <td>0</td>\n",
       "      <td>0</td>\n",
       "      <td>0</td>\n",
       "      <td>Spain</td>\n",
       "      <td>2</td>\n",
       "      <td>13</td>\n",
       "      <td>4</td>\n",
       "      <td>0</td>\n",
       "      <td>2</td>\n",
       "      <td>0</td>\n",
       "      <td>220</td>\n",
       "      <td>Needs Attention</td>\n",
       "      <td>Moderately Recent - Least Buying - Low Spending</td>\n",
       "    </tr>\n",
       "    <tr>\n",
       "      <th>1041</th>\n",
       "      <td>7453</td>\n",
       "      <td>1954</td>\n",
       "      <td>Graduation</td>\n",
       "      <td>Single</td>\n",
       "      <td>36130.0</td>\n",
       "      <td>0</td>\n",
       "      <td>1</td>\n",
       "      <td>2013-02-02</td>\n",
       "      <td>46</td>\n",
       "      <td>157</td>\n",
       "      <td>43</td>\n",
       "      <td>127</td>\n",
       "      <td>68</td>\n",
       "      <td>56</td>\n",
       "      <td>37</td>\n",
       "      <td>6</td>\n",
       "      <td>3</td>\n",
       "      <td>8</td>\n",
       "      <td>4</td>\n",
       "      <td>4</td>\n",
       "      <td>1</td>\n",
       "      <td>0</td>\n",
       "      <td>0</td>\n",
       "      <td>0</td>\n",
       "      <td>0</td>\n",
       "      <td>1</td>\n",
       "      <td>0</td>\n",
       "      <td>Spain</td>\n",
       "      <td>2</td>\n",
       "      <td>488</td>\n",
       "      <td>21</td>\n",
       "      <td>0</td>\n",
       "      <td>3</td>\n",
       "      <td>0</td>\n",
       "      <td>230</td>\n",
       "      <td>Needs Attention</td>\n",
       "      <td>Moderately Recent - Best Buyer (Deals) - Low S...</td>\n",
       "    </tr>\n",
       "    <tr>\n",
       "      <th>1399</th>\n",
       "      <td>4937</td>\n",
       "      <td>1973</td>\n",
       "      <td>2n Cycle</td>\n",
       "      <td>Married</td>\n",
       "      <td>46094.0</td>\n",
       "      <td>1</td>\n",
       "      <td>1</td>\n",
       "      <td>2014-06-10</td>\n",
       "      <td>62</td>\n",
       "      <td>12</td>\n",
       "      <td>2</td>\n",
       "      <td>20</td>\n",
       "      <td>3</td>\n",
       "      <td>2</td>\n",
       "      <td>5</td>\n",
       "      <td>1</td>\n",
       "      <td>1</td>\n",
       "      <td>0</td>\n",
       "      <td>3</td>\n",
       "      <td>7</td>\n",
       "      <td>0</td>\n",
       "      <td>0</td>\n",
       "      <td>0</td>\n",
       "      <td>0</td>\n",
       "      <td>0</td>\n",
       "      <td>0</td>\n",
       "      <td>0</td>\n",
       "      <td>Spain</td>\n",
       "      <td>2</td>\n",
       "      <td>44</td>\n",
       "      <td>5</td>\n",
       "      <td>0</td>\n",
       "      <td>2</td>\n",
       "      <td>0</td>\n",
       "      <td>220</td>\n",
       "      <td>Needs Attention</td>\n",
       "      <td>Moderately Recent - Least Buying - Low Spending</td>\n",
       "    </tr>\n",
       "    <tr>\n",
       "      <th>343</th>\n",
       "      <td>1729</td>\n",
       "      <td>1961</td>\n",
       "      <td>PhD</td>\n",
       "      <td>Together</td>\n",
       "      <td>66426.0</td>\n",
       "      <td>0</td>\n",
       "      <td>1</td>\n",
       "      <td>2013-10-02</td>\n",
       "      <td>14</td>\n",
       "      <td>1043</td>\n",
       "      <td>24</td>\n",
       "      <td>97</td>\n",
       "      <td>32</td>\n",
       "      <td>24</td>\n",
       "      <td>157</td>\n",
       "      <td>2</td>\n",
       "      <td>3</td>\n",
       "      <td>5</td>\n",
       "      <td>10</td>\n",
       "      <td>6</td>\n",
       "      <td>0</td>\n",
       "      <td>0</td>\n",
       "      <td>0</td>\n",
       "      <td>0</td>\n",
       "      <td>0</td>\n",
       "      <td>0</td>\n",
       "      <td>0</td>\n",
       "      <td>Spain</td>\n",
       "      <td>1</td>\n",
       "      <td>1377</td>\n",
       "      <td>20</td>\n",
       "      <td>1</td>\n",
       "      <td>1</td>\n",
       "      <td>1</td>\n",
       "      <td>111</td>\n",
       "      <td>Loyal Customers</td>\n",
       "      <td>Recent Customer - Best Buyer (Web) - Moderate ...</td>\n",
       "    </tr>\n",
       "    <tr>\n",
       "      <th>937</th>\n",
       "      <td>4331</td>\n",
       "      <td>1978</td>\n",
       "      <td>Master</td>\n",
       "      <td>Together</td>\n",
       "      <td>85738.0</td>\n",
       "      <td>0</td>\n",
       "      <td>0</td>\n",
       "      <td>2014-01-23</td>\n",
       "      <td>41</td>\n",
       "      <td>913</td>\n",
       "      <td>26</td>\n",
       "      <td>376</td>\n",
       "      <td>17</td>\n",
       "      <td>26</td>\n",
       "      <td>13</td>\n",
       "      <td>1</td>\n",
       "      <td>3</td>\n",
       "      <td>6</td>\n",
       "      <td>11</td>\n",
       "      <td>1</td>\n",
       "      <td>0</td>\n",
       "      <td>1</td>\n",
       "      <td>1</td>\n",
       "      <td>0</td>\n",
       "      <td>0</td>\n",
       "      <td>0</td>\n",
       "      <td>0</td>\n",
       "      <td>Spain</td>\n",
       "      <td>2</td>\n",
       "      <td>1371</td>\n",
       "      <td>21</td>\n",
       "      <td>1</td>\n",
       "      <td>1</td>\n",
       "      <td>1</td>\n",
       "      <td>211</td>\n",
       "      <td>Promising</td>\n",
       "      <td>Moderately Recent - Best Buyer (Web) - Moderat...</td>\n",
       "    </tr>\n",
       "    <tr>\n",
       "      <th>2078</th>\n",
       "      <td>9451</td>\n",
       "      <td>1965</td>\n",
       "      <td>Graduation</td>\n",
       "      <td>Married</td>\n",
       "      <td>73538.0</td>\n",
       "      <td>0</td>\n",
       "      <td>1</td>\n",
       "      <td>2012-11-25</td>\n",
       "      <td>92</td>\n",
       "      <td>811</td>\n",
       "      <td>76</td>\n",
       "      <td>428</td>\n",
       "      <td>99</td>\n",
       "      <td>137</td>\n",
       "      <td>107</td>\n",
       "      <td>3</td>\n",
       "      <td>10</td>\n",
       "      <td>4</td>\n",
       "      <td>9</td>\n",
       "      <td>7</td>\n",
       "      <td>0</td>\n",
       "      <td>0</td>\n",
       "      <td>0</td>\n",
       "      <td>0</td>\n",
       "      <td>0</td>\n",
       "      <td>0</td>\n",
       "      <td>0</td>\n",
       "      <td>Canada</td>\n",
       "      <td>3</td>\n",
       "      <td>1658</td>\n",
       "      <td>26</td>\n",
       "      <td>2</td>\n",
       "      <td>1</td>\n",
       "      <td>2</td>\n",
       "      <td>312</td>\n",
       "      <td>Needs Attention</td>\n",
       "      <td>Least Recent - Best Buyer (Web) - High Spending</td>\n",
       "    </tr>\n",
       "    <tr>\n",
       "      <th>1743</th>\n",
       "      <td>9426</td>\n",
       "      <td>1964</td>\n",
       "      <td>Master</td>\n",
       "      <td>Single</td>\n",
       "      <td>58308.0</td>\n",
       "      <td>0</td>\n",
       "      <td>1</td>\n",
       "      <td>2013-01-12</td>\n",
       "      <td>77</td>\n",
       "      <td>691</td>\n",
       "      <td>0</td>\n",
       "      <td>69</td>\n",
       "      <td>10</td>\n",
       "      <td>0</td>\n",
       "      <td>130</td>\n",
       "      <td>4</td>\n",
       "      <td>2</td>\n",
       "      <td>6</td>\n",
       "      <td>3</td>\n",
       "      <td>8</td>\n",
       "      <td>0</td>\n",
       "      <td>0</td>\n",
       "      <td>0</td>\n",
       "      <td>0</td>\n",
       "      <td>0</td>\n",
       "      <td>0</td>\n",
       "      <td>0</td>\n",
       "      <td>Spain</td>\n",
       "      <td>3</td>\n",
       "      <td>900</td>\n",
       "      <td>15</td>\n",
       "      <td>1</td>\n",
       "      <td>2</td>\n",
       "      <td>1</td>\n",
       "      <td>321</td>\n",
       "      <td>Needs Attention</td>\n",
       "      <td>Least Recent - Least Buying - Moderate Spending</td>\n",
       "    </tr>\n",
       "    <tr>\n",
       "      <th>23</th>\n",
       "      <td>4065</td>\n",
       "      <td>1976</td>\n",
       "      <td>PhD</td>\n",
       "      <td>Married</td>\n",
       "      <td>49544.0</td>\n",
       "      <td>1</td>\n",
       "      <td>0</td>\n",
       "      <td>2013-02-12</td>\n",
       "      <td>0</td>\n",
       "      <td>308</td>\n",
       "      <td>0</td>\n",
       "      <td>73</td>\n",
       "      <td>0</td>\n",
       "      <td>0</td>\n",
       "      <td>23</td>\n",
       "      <td>2</td>\n",
       "      <td>5</td>\n",
       "      <td>1</td>\n",
       "      <td>8</td>\n",
       "      <td>7</td>\n",
       "      <td>0</td>\n",
       "      <td>0</td>\n",
       "      <td>0</td>\n",
       "      <td>0</td>\n",
       "      <td>0</td>\n",
       "      <td>0</td>\n",
       "      <td>0</td>\n",
       "      <td>Spain</td>\n",
       "      <td>1</td>\n",
       "      <td>404</td>\n",
       "      <td>16</td>\n",
       "      <td>0</td>\n",
       "      <td>0</td>\n",
       "      <td>0</td>\n",
       "      <td>100</td>\n",
       "      <td>Potential Loyalists</td>\n",
       "      <td>Recent Customer - Moderate Buyer - Low Spending</td>\n",
       "    </tr>\n",
       "  </tbody>\n",
       "</table>\n",
       "</div>"
      ],
      "text/plain": [
       "         ID  Year_Birth   Education Marital_Status   Income   Kidhome  \\\n",
       "963    4324        1989  Graduation        Married   42387.0        1   \n",
       "2203   8541        1990    2n Cycle        Married   24683.0        1   \n",
       "824   10757        1967         PhD       Divorced   28420.0        1   \n",
       "1041   7453        1954  Graduation         Single   36130.0        0   \n",
       "1399   4937        1973    2n Cycle        Married   46094.0        1   \n",
       "343    1729        1961         PhD       Together   66426.0        0   \n",
       "937    4331        1978      Master       Together   85738.0        0   \n",
       "2078   9451        1965  Graduation        Married   73538.0        0   \n",
       "1743   9426        1964      Master         Single   58308.0        0   \n",
       "23     4065        1976         PhD        Married   49544.0        1   \n",
       "\n",
       "      Teenhome Dt_Customer  Recency  MntWines  MntFruits  MntMeatProducts  \\\n",
       "963          0  2012-10-29       42       235          0              235   \n",
       "2203         0  2014-03-08       98         8          4               10   \n",
       "824          0  2013-12-24       36         4          2                5   \n",
       "1041         1  2013-02-02       46       157         43              127   \n",
       "1399         1  2014-06-10       62        12          2               20   \n",
       "343          1  2013-10-02       14      1043         24               97   \n",
       "937          0  2014-01-23       41       913         26              376   \n",
       "2078         1  2012-11-25       92       811         76              428   \n",
       "1743         1  2013-01-12       77       691          0               69   \n",
       "23           0  2013-02-12        0       308          0               73   \n",
       "\n",
       "      MntFishProducts  MntSweetProducts  MntGoldProds  NumDealsPurchases  \\\n",
       "963                19                 4           191                  5   \n",
       "2203                6                 7             6                  2   \n",
       "824                 2                 0             0                  1   \n",
       "1041               68                56            37                  6   \n",
       "1399                3                 2             5                  1   \n",
       "343                32                24           157                  2   \n",
       "937                17                26            13                  1   \n",
       "2078               99               137           107                  3   \n",
       "1743               10                 0           130                  4   \n",
       "23                  0                 0            23                  2   \n",
       "\n",
       "      NumWebPurchases  NumCatalogPurchases  NumStorePurchases  \\\n",
       "963                 8                    1                  7   \n",
       "2203                2                    0                  4   \n",
       "824                 1                    0                  2   \n",
       "1041                3                    8                  4   \n",
       "1399                1                    0                  3   \n",
       "343                 3                    5                 10   \n",
       "937                 3                    6                 11   \n",
       "2078               10                    4                  9   \n",
       "1743                2                    6                  3   \n",
       "23                  5                    1                  8   \n",
       "\n",
       "      NumWebVisitsMonth  AcceptedCmp3  AcceptedCmp4  AcceptedCmp5  \\\n",
       "963                   8             0             0             0   \n",
       "2203                  5             0             0             0   \n",
       "824                   6             0             0             0   \n",
       "1041                  4             1             0             0   \n",
       "1399                  7             0             0             0   \n",
       "343                   6             0             0             0   \n",
       "937                   1             0             1             1   \n",
       "2078                  7             0             0             0   \n",
       "1743                  8             0             0             0   \n",
       "23                    7             0             0             0   \n",
       "\n",
       "      AcceptedCmp1  AcceptedCmp2  Response  Complain Country  Recency_binned  \\\n",
       "963              0             0         0         0   Spain               2   \n",
       "2203             0             0         0         0   Spain               3   \n",
       "824              0             0         0         0   Spain               2   \n",
       "1041             0             0         1         0   Spain               2   \n",
       "1399             0             0         0         0   Spain               2   \n",
       "343              0             0         0         0   Spain               1   \n",
       "937              0             0         0         0   Spain               2   \n",
       "2078             0             0         0         0  Canada               3   \n",
       "1743             0             0         0         0   Spain               3   \n",
       "23               0             0         0         0   Spain               1   \n",
       "\n",
       "      Monetary  Frequency_Purchase  Cluster  Frequency_Clustering  \\\n",
       "963        684                  21        0                     3   \n",
       "2203        41                   8        0                     2   \n",
       "824         13                   4        0                     2   \n",
       "1041       488                  21        0                     3   \n",
       "1399        44                   5        0                     2   \n",
       "343       1377                  20        1                     1   \n",
       "937       1371                  21        1                     1   \n",
       "2078      1658                  26        2                     1   \n",
       "1743       900                  15        1                     2   \n",
       "23         404                  16        0                     0   \n",
       "\n",
       "      Monetary_Clustering RFM_Score              Segment  \\\n",
       "963                     0       230      Needs Attention   \n",
       "2203                    0       320      Needs Attention   \n",
       "824                     0       220      Needs Attention   \n",
       "1041                    0       230      Needs Attention   \n",
       "1399                    0       220      Needs Attention   \n",
       "343                     1       111      Loyal Customers   \n",
       "937                     1       211            Promising   \n",
       "2078                    2       312      Needs Attention   \n",
       "1743                    1       321      Needs Attention   \n",
       "23                      0       100  Potential Loyalists   \n",
       "\n",
       "                                       Customer_Profile  \n",
       "963   Moderately Recent - Best Buyer (Deals) - Low S...  \n",
       "2203         Least Recent - Least Buying - Low Spending  \n",
       "824     Moderately Recent - Least Buying - Low Spending  \n",
       "1041  Moderately Recent - Best Buyer (Deals) - Low S...  \n",
       "1399    Moderately Recent - Least Buying - Low Spending  \n",
       "343   Recent Customer - Best Buyer (Web) - Moderate ...  \n",
       "937   Moderately Recent - Best Buyer (Web) - Moderat...  \n",
       "2078    Least Recent - Best Buyer (Web) - High Spending  \n",
       "1743    Least Recent - Least Buying - Moderate Spending  \n",
       "23      Recent Customer - Moderate Buyer - Low Spending  "
      ]
     },
     "execution_count": 35,
     "metadata": {},
     "output_type": "execute_result"
    }
   ],
   "source": [
    "df.sample(10)"
   ]
  },
  {
   "cell_type": "code",
   "execution_count": 42,
   "metadata": {},
   "outputs": [],
   "source": [
    "df.to_csv(\"marketing_data_final.csv\", index = True)"
   ]
  },
  {
   "cell_type": "markdown",
   "metadata": {},
   "source": [
    "## Uncleaned Codes"
   ]
  },
  {
   "cell_type": "code",
   "execution_count": 36,
   "metadata": {
    "colab": {
     "base_uri": "https://localhost:8080/"
    },
    "id": "XcMUOGinL388",
    "outputId": "d2ee4e28-7c10-4ed5-fa85-430ee13e9a5a"
   },
   "outputs": [
    {
     "data": {
      "text/plain": [
       "(        Country  count\n",
       " 0         Spain   1093\n",
       " 1  Saudi Arabia    337\n",
       " 2        Canada    266\n",
       " 3     Australia    147\n",
       " 4         India    147\n",
       " 5       Germany    116\n",
       " 6           USA    107\n",
       " 7        Mexico      3,\n",
       " array(['Spain', 'Canada', 'USA', 'Australia', 'Germany', 'India',\n",
       "        'Saudi Arabia', 'Mexico'], dtype=object))"
      ]
     },
     "execution_count": 36,
     "metadata": {},
     "output_type": "execute_result"
    }
   ],
   "source": [
    "df.Country.value_counts().reset_index(), df.Country.unique()"
   ]
  },
  {
   "cell_type": "code",
   "execution_count": 37,
   "metadata": {
    "colab": {
     "base_uri": "https://localhost:8080/",
     "height": 927
    },
    "id": "_TaRYH-fXEfX",
    "outputId": "f1e4d81a-8a6e-45a6-db94-8c1ca6ea73a9"
   },
   "outputs": [
    {
     "data": {
      "text/html": [
       "<div>\n",
       "<style scoped>\n",
       "    .dataframe tbody tr th:only-of-type {\n",
       "        vertical-align: middle;\n",
       "    }\n",
       "\n",
       "    .dataframe tbody tr th {\n",
       "        vertical-align: top;\n",
       "    }\n",
       "\n",
       "    .dataframe thead th {\n",
       "        text-align: right;\n",
       "    }\n",
       "</style>\n",
       "<table border=\"1\" class=\"dataframe\">\n",
       "  <thead>\n",
       "    <tr style=\"text-align: right;\">\n",
       "      <th></th>\n",
       "      <th>Field</th>\n",
       "      <th>Description</th>\n",
       "    </tr>\n",
       "  </thead>\n",
       "  <tbody>\n",
       "    <tr>\n",
       "      <th>0</th>\n",
       "      <td>ID</td>\n",
       "      <td>Customer's unique identifier</td>\n",
       "    </tr>\n",
       "    <tr>\n",
       "      <th>1</th>\n",
       "      <td>Year_Birth</td>\n",
       "      <td>Customer's birth year</td>\n",
       "    </tr>\n",
       "    <tr>\n",
       "      <th>2</th>\n",
       "      <td>Education</td>\n",
       "      <td>Customer's education level</td>\n",
       "    </tr>\n",
       "    <tr>\n",
       "      <th>3</th>\n",
       "      <td>Marital_Status</td>\n",
       "      <td>Customer's marital status</td>\n",
       "    </tr>\n",
       "    <tr>\n",
       "      <th>4</th>\n",
       "      <td>Income</td>\n",
       "      <td>Customer's yearly household income</td>\n",
       "    </tr>\n",
       "    <tr>\n",
       "      <th>5</th>\n",
       "      <td>Kidhome</td>\n",
       "      <td>Number of children in customer's household</td>\n",
       "    </tr>\n",
       "    <tr>\n",
       "      <th>6</th>\n",
       "      <td>Teenhome</td>\n",
       "      <td>Number of teenagers in customer's household</td>\n",
       "    </tr>\n",
       "    <tr>\n",
       "      <th>7</th>\n",
       "      <td>Dt_Customer</td>\n",
       "      <td>Date of customer's enrollment with the company</td>\n",
       "    </tr>\n",
       "    <tr>\n",
       "      <th>8</th>\n",
       "      <td>Recency</td>\n",
       "      <td>Number of days since customer's last purchase</td>\n",
       "    </tr>\n",
       "    <tr>\n",
       "      <th>9</th>\n",
       "      <td>MntWines</td>\n",
       "      <td>Amount spent on wine in the last 2 years</td>\n",
       "    </tr>\n",
       "    <tr>\n",
       "      <th>10</th>\n",
       "      <td>MntFruits</td>\n",
       "      <td>Amount spent on fruits in the last 2 years</td>\n",
       "    </tr>\n",
       "    <tr>\n",
       "      <th>11</th>\n",
       "      <td>MntMeatProducts</td>\n",
       "      <td>Amount spent on meat in the last 2 years</td>\n",
       "    </tr>\n",
       "    <tr>\n",
       "      <th>12</th>\n",
       "      <td>MntFishProducts</td>\n",
       "      <td>Amount spent on fish in the last 2 years</td>\n",
       "    </tr>\n",
       "    <tr>\n",
       "      <th>13</th>\n",
       "      <td>MntSweetProducts</td>\n",
       "      <td>Amount spent on sweets in the last 2 years</td>\n",
       "    </tr>\n",
       "    <tr>\n",
       "      <th>14</th>\n",
       "      <td>MntGoldProds</td>\n",
       "      <td>Amount spent on gold in the last 2 years</td>\n",
       "    </tr>\n",
       "    <tr>\n",
       "      <th>15</th>\n",
       "      <td>NumDealsPurchases</td>\n",
       "      <td>Number of purchases made with a discount</td>\n",
       "    </tr>\n",
       "    <tr>\n",
       "      <th>16</th>\n",
       "      <td>NumWebPurchases</td>\n",
       "      <td>Number of purchases made through the company's web site</td>\n",
       "    </tr>\n",
       "    <tr>\n",
       "      <th>17</th>\n",
       "      <td>NumCatalogPurchases</td>\n",
       "      <td>Number of purchases made using a catalogue</td>\n",
       "    </tr>\n",
       "    <tr>\n",
       "      <th>18</th>\n",
       "      <td>NumStorePurchases</td>\n",
       "      <td>Number of purchases made directly in stores</td>\n",
       "    </tr>\n",
       "    <tr>\n",
       "      <th>19</th>\n",
       "      <td>NumWebVisitsMonth</td>\n",
       "      <td>Number of visits to company's web site in the last month</td>\n",
       "    </tr>\n",
       "    <tr>\n",
       "      <th>20</th>\n",
       "      <td>AcceptedCmp3</td>\n",
       "      <td>1 if customer accepted the offer in the 3rd campaign, 0 otherwise</td>\n",
       "    </tr>\n",
       "    <tr>\n",
       "      <th>21</th>\n",
       "      <td>AcceptedCmp4</td>\n",
       "      <td>1 if customer accepted the offer in the 4th campaign, 0 otherwise</td>\n",
       "    </tr>\n",
       "    <tr>\n",
       "      <th>22</th>\n",
       "      <td>AcceptedCmp5</td>\n",
       "      <td>1 if customer accepted the offer in the 5th campaign, 0 otherwise</td>\n",
       "    </tr>\n",
       "    <tr>\n",
       "      <th>23</th>\n",
       "      <td>AcceptedCmp1</td>\n",
       "      <td>1 if customer accepted the offer in the 1st campaign, 0 otherwise</td>\n",
       "    </tr>\n",
       "    <tr>\n",
       "      <th>24</th>\n",
       "      <td>AcceptedCmp2</td>\n",
       "      <td>1 if customer accepted the offer in the 2nd campaign, 0 otherwise</td>\n",
       "    </tr>\n",
       "    <tr>\n",
       "      <th>25</th>\n",
       "      <td>Response</td>\n",
       "      <td>1 if customer accepted the offer in the last campaign, 0 otherwise</td>\n",
       "    </tr>\n",
       "    <tr>\n",
       "      <th>26</th>\n",
       "      <td>Complain</td>\n",
       "      <td>1 if customer complained in the last 2 years, 0 otherwise</td>\n",
       "    </tr>\n",
       "    <tr>\n",
       "      <th>27</th>\n",
       "      <td>Country</td>\n",
       "      <td>Customer's location</td>\n",
       "    </tr>\n",
       "  </tbody>\n",
       "</table>\n",
       "</div>"
      ],
      "text/plain": [
       "                  Field  \\\n",
       "0                    ID   \n",
       "1            Year_Birth   \n",
       "2             Education   \n",
       "3        Marital_Status   \n",
       "4               Income    \n",
       "5               Kidhome   \n",
       "6              Teenhome   \n",
       "7           Dt_Customer   \n",
       "8               Recency   \n",
       "9              MntWines   \n",
       "10            MntFruits   \n",
       "11      MntMeatProducts   \n",
       "12      MntFishProducts   \n",
       "13     MntSweetProducts   \n",
       "14         MntGoldProds   \n",
       "15    NumDealsPurchases   \n",
       "16      NumWebPurchases   \n",
       "17  NumCatalogPurchases   \n",
       "18    NumStorePurchases   \n",
       "19    NumWebVisitsMonth   \n",
       "20         AcceptedCmp3   \n",
       "21         AcceptedCmp4   \n",
       "22         AcceptedCmp5   \n",
       "23         AcceptedCmp1   \n",
       "24         AcceptedCmp2   \n",
       "25             Response   \n",
       "26             Complain   \n",
       "27              Country   \n",
       "\n",
       "                                                           Description  \n",
       "0                                         Customer's unique identifier  \n",
       "1                                                Customer's birth year  \n",
       "2                                           Customer's education level  \n",
       "3                                            Customer's marital status  \n",
       "4                                   Customer's yearly household income  \n",
       "5                           Number of children in customer's household  \n",
       "6                          Number of teenagers in customer's household  \n",
       "7                       Date of customer's enrollment with the company  \n",
       "8                        Number of days since customer's last purchase  \n",
       "9                             Amount spent on wine in the last 2 years  \n",
       "10                          Amount spent on fruits in the last 2 years  \n",
       "11                            Amount spent on meat in the last 2 years  \n",
       "12                            Amount spent on fish in the last 2 years  \n",
       "13                          Amount spent on sweets in the last 2 years  \n",
       "14                            Amount spent on gold in the last 2 years  \n",
       "15                            Number of purchases made with a discount  \n",
       "16             Number of purchases made through the company's web site  \n",
       "17                          Number of purchases made using a catalogue  \n",
       "18                         Number of purchases made directly in stores  \n",
       "19            Number of visits to company's web site in the last month  \n",
       "20   1 if customer accepted the offer in the 3rd campaign, 0 otherwise  \n",
       "21   1 if customer accepted the offer in the 4th campaign, 0 otherwise  \n",
       "22   1 if customer accepted the offer in the 5th campaign, 0 otherwise  \n",
       "23   1 if customer accepted the offer in the 1st campaign, 0 otherwise  \n",
       "24   1 if customer accepted the offer in the 2nd campaign, 0 otherwise  \n",
       "25  1 if customer accepted the offer in the last campaign, 0 otherwise  \n",
       "26           1 if customer complained in the last 2 years, 0 otherwise  \n",
       "27                                                 Customer's location  "
      ]
     },
     "execution_count": 37,
     "metadata": {},
     "output_type": "execute_result"
    }
   ],
   "source": [
    "pd.set_option('display.max_colwidth', None)\n",
    "metadata"
   ]
  },
  {
   "cell_type": "markdown",
   "metadata": {
    "id": "FTBYbEuOZRot"
   },
   "source": [
    "### Transition of customer behaviour for each stage of campaign"
   ]
  },
  {
   "cell_type": "code",
   "execution_count": 38,
   "metadata": {
    "colab": {
     "base_uri": "https://localhost:8080/",
     "height": 562
    },
    "id": "LSFn1H9mXUll",
    "outputId": "6b3a7943-608e-488d-e565-d56245cad686"
   },
   "outputs": [
    {
     "data": {
      "application/vnd.plotly.v1+json": {
       "config": {
        "plotlyServerURL": "https://plot.ly"
       },
       "data": [
        {
         "link": {
          "source": [
           0,
           0,
           3,
           3,
           1,
           1,
           2,
           2,
           4,
           4,
           5,
           6,
           6,
           7,
           7,
           8,
           8,
           9,
           9
          ],
          "target": [
           1,
           2,
           1,
           2,
           4,
           5,
           4,
           5,
           6,
           7,
           6,
           8,
           9,
           8,
           9,
           10,
           11,
           10,
           11
          ],
          "value": [
           2057,
           17,
           129,
           13,
           2030,
           156,
           23,
           7,
           1889,
           164,
           163,
           1949,
           103,
           105,
           59,
           1812,
           242,
           71,
           91
          ]
         },
         "node": {
          "label": [
           "AcceptedCmp1_0",
           "AcceptedCmp2_0",
           "AcceptedCmp2_1",
           "AcceptedCmp1_1",
           "AcceptedCmp3_0",
           "AcceptedCmp3_1",
           "AcceptedCmp4_0",
           "AcceptedCmp4_1",
           "AcceptedCmp5_0",
           "AcceptedCmp5_1",
           "Response_0",
           "Response_1"
          ],
          "line": {
           "color": "black",
           "width": 0.5
          },
          "pad": 15,
          "thickness": 20
         },
         "type": "sankey"
        }
       ],
       "layout": {
        "font": {
         "size": 10
        },
        "template": {
         "data": {
          "bar": [
           {
            "error_x": {
             "color": "#2a3f5f"
            },
            "error_y": {
             "color": "#2a3f5f"
            },
            "marker": {
             "line": {
              "color": "#E5ECF6",
              "width": 0.5
             },
             "pattern": {
              "fillmode": "overlay",
              "size": 10,
              "solidity": 0.2
             }
            },
            "type": "bar"
           }
          ],
          "barpolar": [
           {
            "marker": {
             "line": {
              "color": "#E5ECF6",
              "width": 0.5
             },
             "pattern": {
              "fillmode": "overlay",
              "size": 10,
              "solidity": 0.2
             }
            },
            "type": "barpolar"
           }
          ],
          "carpet": [
           {
            "aaxis": {
             "endlinecolor": "#2a3f5f",
             "gridcolor": "white",
             "linecolor": "white",
             "minorgridcolor": "white",
             "startlinecolor": "#2a3f5f"
            },
            "baxis": {
             "endlinecolor": "#2a3f5f",
             "gridcolor": "white",
             "linecolor": "white",
             "minorgridcolor": "white",
             "startlinecolor": "#2a3f5f"
            },
            "type": "carpet"
           }
          ],
          "choropleth": [
           {
            "colorbar": {
             "outlinewidth": 0,
             "ticks": ""
            },
            "type": "choropleth"
           }
          ],
          "contour": [
           {
            "colorbar": {
             "outlinewidth": 0,
             "ticks": ""
            },
            "colorscale": [
             [
              0,
              "#0d0887"
             ],
             [
              0.1111111111111111,
              "#46039f"
             ],
             [
              0.2222222222222222,
              "#7201a8"
             ],
             [
              0.3333333333333333,
              "#9c179e"
             ],
             [
              0.4444444444444444,
              "#bd3786"
             ],
             [
              0.5555555555555556,
              "#d8576b"
             ],
             [
              0.6666666666666666,
              "#ed7953"
             ],
             [
              0.7777777777777778,
              "#fb9f3a"
             ],
             [
              0.8888888888888888,
              "#fdca26"
             ],
             [
              1,
              "#f0f921"
             ]
            ],
            "type": "contour"
           }
          ],
          "contourcarpet": [
           {
            "colorbar": {
             "outlinewidth": 0,
             "ticks": ""
            },
            "type": "contourcarpet"
           }
          ],
          "heatmap": [
           {
            "colorbar": {
             "outlinewidth": 0,
             "ticks": ""
            },
            "colorscale": [
             [
              0,
              "#0d0887"
             ],
             [
              0.1111111111111111,
              "#46039f"
             ],
             [
              0.2222222222222222,
              "#7201a8"
             ],
             [
              0.3333333333333333,
              "#9c179e"
             ],
             [
              0.4444444444444444,
              "#bd3786"
             ],
             [
              0.5555555555555556,
              "#d8576b"
             ],
             [
              0.6666666666666666,
              "#ed7953"
             ],
             [
              0.7777777777777778,
              "#fb9f3a"
             ],
             [
              0.8888888888888888,
              "#fdca26"
             ],
             [
              1,
              "#f0f921"
             ]
            ],
            "type": "heatmap"
           }
          ],
          "heatmapgl": [
           {
            "colorbar": {
             "outlinewidth": 0,
             "ticks": ""
            },
            "colorscale": [
             [
              0,
              "#0d0887"
             ],
             [
              0.1111111111111111,
              "#46039f"
             ],
             [
              0.2222222222222222,
              "#7201a8"
             ],
             [
              0.3333333333333333,
              "#9c179e"
             ],
             [
              0.4444444444444444,
              "#bd3786"
             ],
             [
              0.5555555555555556,
              "#d8576b"
             ],
             [
              0.6666666666666666,
              "#ed7953"
             ],
             [
              0.7777777777777778,
              "#fb9f3a"
             ],
             [
              0.8888888888888888,
              "#fdca26"
             ],
             [
              1,
              "#f0f921"
             ]
            ],
            "type": "heatmapgl"
           }
          ],
          "histogram": [
           {
            "marker": {
             "pattern": {
              "fillmode": "overlay",
              "size": 10,
              "solidity": 0.2
             }
            },
            "type": "histogram"
           }
          ],
          "histogram2d": [
           {
            "colorbar": {
             "outlinewidth": 0,
             "ticks": ""
            },
            "colorscale": [
             [
              0,
              "#0d0887"
             ],
             [
              0.1111111111111111,
              "#46039f"
             ],
             [
              0.2222222222222222,
              "#7201a8"
             ],
             [
              0.3333333333333333,
              "#9c179e"
             ],
             [
              0.4444444444444444,
              "#bd3786"
             ],
             [
              0.5555555555555556,
              "#d8576b"
             ],
             [
              0.6666666666666666,
              "#ed7953"
             ],
             [
              0.7777777777777778,
              "#fb9f3a"
             ],
             [
              0.8888888888888888,
              "#fdca26"
             ],
             [
              1,
              "#f0f921"
             ]
            ],
            "type": "histogram2d"
           }
          ],
          "histogram2dcontour": [
           {
            "colorbar": {
             "outlinewidth": 0,
             "ticks": ""
            },
            "colorscale": [
             [
              0,
              "#0d0887"
             ],
             [
              0.1111111111111111,
              "#46039f"
             ],
             [
              0.2222222222222222,
              "#7201a8"
             ],
             [
              0.3333333333333333,
              "#9c179e"
             ],
             [
              0.4444444444444444,
              "#bd3786"
             ],
             [
              0.5555555555555556,
              "#d8576b"
             ],
             [
              0.6666666666666666,
              "#ed7953"
             ],
             [
              0.7777777777777778,
              "#fb9f3a"
             ],
             [
              0.8888888888888888,
              "#fdca26"
             ],
             [
              1,
              "#f0f921"
             ]
            ],
            "type": "histogram2dcontour"
           }
          ],
          "mesh3d": [
           {
            "colorbar": {
             "outlinewidth": 0,
             "ticks": ""
            },
            "type": "mesh3d"
           }
          ],
          "parcoords": [
           {
            "line": {
             "colorbar": {
              "outlinewidth": 0,
              "ticks": ""
             }
            },
            "type": "parcoords"
           }
          ],
          "pie": [
           {
            "automargin": true,
            "type": "pie"
           }
          ],
          "scatter": [
           {
            "fillpattern": {
             "fillmode": "overlay",
             "size": 10,
             "solidity": 0.2
            },
            "type": "scatter"
           }
          ],
          "scatter3d": [
           {
            "line": {
             "colorbar": {
              "outlinewidth": 0,
              "ticks": ""
             }
            },
            "marker": {
             "colorbar": {
              "outlinewidth": 0,
              "ticks": ""
             }
            },
            "type": "scatter3d"
           }
          ],
          "scattercarpet": [
           {
            "marker": {
             "colorbar": {
              "outlinewidth": 0,
              "ticks": ""
             }
            },
            "type": "scattercarpet"
           }
          ],
          "scattergeo": [
           {
            "marker": {
             "colorbar": {
              "outlinewidth": 0,
              "ticks": ""
             }
            },
            "type": "scattergeo"
           }
          ],
          "scattergl": [
           {
            "marker": {
             "colorbar": {
              "outlinewidth": 0,
              "ticks": ""
             }
            },
            "type": "scattergl"
           }
          ],
          "scattermapbox": [
           {
            "marker": {
             "colorbar": {
              "outlinewidth": 0,
              "ticks": ""
             }
            },
            "type": "scattermapbox"
           }
          ],
          "scatterpolar": [
           {
            "marker": {
             "colorbar": {
              "outlinewidth": 0,
              "ticks": ""
             }
            },
            "type": "scatterpolar"
           }
          ],
          "scatterpolargl": [
           {
            "marker": {
             "colorbar": {
              "outlinewidth": 0,
              "ticks": ""
             }
            },
            "type": "scatterpolargl"
           }
          ],
          "scatterternary": [
           {
            "marker": {
             "colorbar": {
              "outlinewidth": 0,
              "ticks": ""
             }
            },
            "type": "scatterternary"
           }
          ],
          "surface": [
           {
            "colorbar": {
             "outlinewidth": 0,
             "ticks": ""
            },
            "colorscale": [
             [
              0,
              "#0d0887"
             ],
             [
              0.1111111111111111,
              "#46039f"
             ],
             [
              0.2222222222222222,
              "#7201a8"
             ],
             [
              0.3333333333333333,
              "#9c179e"
             ],
             [
              0.4444444444444444,
              "#bd3786"
             ],
             [
              0.5555555555555556,
              "#d8576b"
             ],
             [
              0.6666666666666666,
              "#ed7953"
             ],
             [
              0.7777777777777778,
              "#fb9f3a"
             ],
             [
              0.8888888888888888,
              "#fdca26"
             ],
             [
              1,
              "#f0f921"
             ]
            ],
            "type": "surface"
           }
          ],
          "table": [
           {
            "cells": {
             "fill": {
              "color": "#EBF0F8"
             },
             "line": {
              "color": "white"
             }
            },
            "header": {
             "fill": {
              "color": "#C8D4E3"
             },
             "line": {
              "color": "white"
             }
            },
            "type": "table"
           }
          ]
         },
         "layout": {
          "annotationdefaults": {
           "arrowcolor": "#2a3f5f",
           "arrowhead": 0,
           "arrowwidth": 1
          },
          "autotypenumbers": "strict",
          "coloraxis": {
           "colorbar": {
            "outlinewidth": 0,
            "ticks": ""
           }
          },
          "colorscale": {
           "diverging": [
            [
             0,
             "#8e0152"
            ],
            [
             0.1,
             "#c51b7d"
            ],
            [
             0.2,
             "#de77ae"
            ],
            [
             0.3,
             "#f1b6da"
            ],
            [
             0.4,
             "#fde0ef"
            ],
            [
             0.5,
             "#f7f7f7"
            ],
            [
             0.6,
             "#e6f5d0"
            ],
            [
             0.7,
             "#b8e186"
            ],
            [
             0.8,
             "#7fbc41"
            ],
            [
             0.9,
             "#4d9221"
            ],
            [
             1,
             "#276419"
            ]
           ],
           "sequential": [
            [
             0,
             "#0d0887"
            ],
            [
             0.1111111111111111,
             "#46039f"
            ],
            [
             0.2222222222222222,
             "#7201a8"
            ],
            [
             0.3333333333333333,
             "#9c179e"
            ],
            [
             0.4444444444444444,
             "#bd3786"
            ],
            [
             0.5555555555555556,
             "#d8576b"
            ],
            [
             0.6666666666666666,
             "#ed7953"
            ],
            [
             0.7777777777777778,
             "#fb9f3a"
            ],
            [
             0.8888888888888888,
             "#fdca26"
            ],
            [
             1,
             "#f0f921"
            ]
           ],
           "sequentialminus": [
            [
             0,
             "#0d0887"
            ],
            [
             0.1111111111111111,
             "#46039f"
            ],
            [
             0.2222222222222222,
             "#7201a8"
            ],
            [
             0.3333333333333333,
             "#9c179e"
            ],
            [
             0.4444444444444444,
             "#bd3786"
            ],
            [
             0.5555555555555556,
             "#d8576b"
            ],
            [
             0.6666666666666666,
             "#ed7953"
            ],
            [
             0.7777777777777778,
             "#fb9f3a"
            ],
            [
             0.8888888888888888,
             "#fdca26"
            ],
            [
             1,
             "#f0f921"
            ]
           ]
          },
          "colorway": [
           "#636efa",
           "#EF553B",
           "#00cc96",
           "#ab63fa",
           "#FFA15A",
           "#19d3f3",
           "#FF6692",
           "#B6E880",
           "#FF97FF",
           "#FECB52"
          ],
          "font": {
           "color": "#2a3f5f"
          },
          "geo": {
           "bgcolor": "white",
           "lakecolor": "white",
           "landcolor": "#E5ECF6",
           "showlakes": true,
           "showland": true,
           "subunitcolor": "white"
          },
          "hoverlabel": {
           "align": "left"
          },
          "hovermode": "closest",
          "mapbox": {
           "style": "light"
          },
          "paper_bgcolor": "white",
          "plot_bgcolor": "#E5ECF6",
          "polar": {
           "angularaxis": {
            "gridcolor": "white",
            "linecolor": "white",
            "ticks": ""
           },
           "bgcolor": "#E5ECF6",
           "radialaxis": {
            "gridcolor": "white",
            "linecolor": "white",
            "ticks": ""
           }
          },
          "scene": {
           "xaxis": {
            "backgroundcolor": "#E5ECF6",
            "gridcolor": "white",
            "gridwidth": 2,
            "linecolor": "white",
            "showbackground": true,
            "ticks": "",
            "zerolinecolor": "white"
           },
           "yaxis": {
            "backgroundcolor": "#E5ECF6",
            "gridcolor": "white",
            "gridwidth": 2,
            "linecolor": "white",
            "showbackground": true,
            "ticks": "",
            "zerolinecolor": "white"
           },
           "zaxis": {
            "backgroundcolor": "#E5ECF6",
            "gridcolor": "white",
            "gridwidth": 2,
            "linecolor": "white",
            "showbackground": true,
            "ticks": "",
            "zerolinecolor": "white"
           }
          },
          "shapedefaults": {
           "line": {
            "color": "#2a3f5f"
           }
          },
          "ternary": {
           "aaxis": {
            "gridcolor": "white",
            "linecolor": "white",
            "ticks": ""
           },
           "baxis": {
            "gridcolor": "white",
            "linecolor": "white",
            "ticks": ""
           },
           "bgcolor": "#E5ECF6",
           "caxis": {
            "gridcolor": "white",
            "linecolor": "white",
            "ticks": ""
           }
          },
          "title": {
           "x": 0.05
          },
          "xaxis": {
           "automargin": true,
           "gridcolor": "white",
           "linecolor": "white",
           "ticks": "",
           "title": {
            "standoff": 15
           },
           "zerolinecolor": "white",
           "zerolinewidth": 2
          },
          "yaxis": {
           "automargin": true,
           "gridcolor": "white",
           "linecolor": "white",
           "ticks": "",
           "title": {
            "standoff": 15
           },
           "zerolinecolor": "white",
           "zerolinewidth": 2
          }
         }
        },
        "title": {
         "text": "Customer Behaviour overtime of Campaign"
        }
       }
      }
     },
     "metadata": {},
     "output_type": "display_data"
    }
   ],
   "source": [
    "sankey_df = df[[\"AcceptedCmp1\", \"AcceptedCmp2\", \"AcceptedCmp3\", \"AcceptedCmp4\", \"AcceptedCmp5\", \"Response\"]]\n",
    "\n",
    "campaigns = ['AcceptedCmp1', 'AcceptedCmp2', 'AcceptedCmp3', 'AcceptedCmp4', 'AcceptedCmp5', 'Response']\n",
    "counts = {}\n",
    "\n",
    "for i in range(len(campaigns) - 1):\n",
    "    source_campaign = campaigns[i]\n",
    "    target_campaign = campaigns[i + 1]\n",
    "\n",
    "    # Count transitions from 1 to 1, 1 to 0, 0 to 1, and 0 to 0\n",
    "    for source in [0, 1]:\n",
    "        for target in [0, 1]:\n",
    "            count = len(sankey_df[(sankey_df[source_campaign] == source) & (sankey_df[target_campaign] == target)])\n",
    "            counts[(f\"{source_campaign}_{source}\", f\"{target_campaign}_{target}\")] = count\n",
    "\n",
    "sources = []\n",
    "targets = []\n",
    "values = []\n",
    "labels = []\n",
    "\n",
    "# Create unique labels for each stage\n",
    "label_dict = {}\n",
    "index = 0\n",
    "for (source, target), count in counts.items():\n",
    "    if count > 0:\n",
    "        if source not in label_dict:\n",
    "            label_dict[source] = index\n",
    "            labels.append(source)\n",
    "            index += 1\n",
    "        if target not in label_dict:\n",
    "            label_dict[target] = index\n",
    "            labels.append(target)\n",
    "            index += 1\n",
    "        sources.append(label_dict[source])\n",
    "        targets.append(label_dict[target])\n",
    "        values.append(count)\n",
    "\n",
    "# Create the Sankey diagram\n",
    "fig = go.Figure(go.Sankey(\n",
    "    node=dict(\n",
    "        pad=15,\n",
    "        thickness=20,\n",
    "        line=dict(color=\"black\", width=0.5),\n",
    "        label=labels,\n",
    "    ),\n",
    "    link=dict(\n",
    "        source=sources,\n",
    "        target=targets,\n",
    "        value=values\n",
    "    )\n",
    "))\n",
    "\n",
    "fig.update_layout(title_text=\"Customer Behaviour overtime of Campaign\", font_size=10)\n",
    "fig.show()\n"
   ]
  },
  {
   "cell_type": "code",
   "execution_count": 39,
   "metadata": {
    "id": "dmfTQzIG363k"
   },
   "outputs": [],
   "source": [
    "sankey_data = pd.DataFrame({\n",
    "    'Source': [labels[source] for source in sources],\n",
    "    'Target': [labels[target] for target in targets],\n",
    "    'Value': values\n",
    "})\n",
    "\n",
    "# Save to CSV\n",
    "sankey_data.to_csv(\"sankey_data.csv\", index=False)"
   ]
  },
  {
   "cell_type": "markdown",
   "metadata": {
    "id": "G_ifrw8wav-a"
   },
   "source": [
    "### What to buy for each kidhome"
   ]
  },
  {
   "cell_type": "code",
   "execution_count": 40,
   "metadata": {
    "id": "g0aQOvUJk2FM"
   },
   "outputs": [
    {
     "data": {
      "text/html": [
       "<div>\n",
       "<style scoped>\n",
       "    .dataframe tbody tr th:only-of-type {\n",
       "        vertical-align: middle;\n",
       "    }\n",
       "\n",
       "    .dataframe tbody tr th {\n",
       "        vertical-align: top;\n",
       "    }\n",
       "\n",
       "    .dataframe thead th {\n",
       "        text-align: right;\n",
       "    }\n",
       "</style>\n",
       "<table border=\"1\" class=\"dataframe\">\n",
       "  <thead>\n",
       "    <tr style=\"text-align: right;\">\n",
       "      <th></th>\n",
       "      <th>ID</th>\n",
       "      <th>Year_Birth</th>\n",
       "      <th>Education</th>\n",
       "      <th>Marital_Status</th>\n",
       "      <th>Income</th>\n",
       "      <th>Kidhome</th>\n",
       "      <th>Teenhome</th>\n",
       "      <th>Dt_Customer</th>\n",
       "      <th>Recency</th>\n",
       "      <th>MntWines</th>\n",
       "      <th>MntFruits</th>\n",
       "      <th>MntMeatProducts</th>\n",
       "      <th>MntFishProducts</th>\n",
       "      <th>MntSweetProducts</th>\n",
       "      <th>MntGoldProds</th>\n",
       "      <th>NumDealsPurchases</th>\n",
       "      <th>NumWebPurchases</th>\n",
       "      <th>NumCatalogPurchases</th>\n",
       "      <th>NumStorePurchases</th>\n",
       "      <th>NumWebVisitsMonth</th>\n",
       "      <th>AcceptedCmp3</th>\n",
       "      <th>AcceptedCmp4</th>\n",
       "      <th>AcceptedCmp5</th>\n",
       "      <th>AcceptedCmp1</th>\n",
       "      <th>AcceptedCmp2</th>\n",
       "      <th>Response</th>\n",
       "      <th>Complain</th>\n",
       "      <th>Country</th>\n",
       "      <th>Recency_binned</th>\n",
       "      <th>Monetary</th>\n",
       "      <th>Frequency_Purchase</th>\n",
       "      <th>Cluster</th>\n",
       "      <th>Frequency_Clustering</th>\n",
       "      <th>Monetary_Clustering</th>\n",
       "      <th>RFM_Score</th>\n",
       "      <th>Segment</th>\n",
       "      <th>Customer_Profile</th>\n",
       "    </tr>\n",
       "  </thead>\n",
       "  <tbody>\n",
       "    <tr>\n",
       "      <th>0</th>\n",
       "      <td>1826</td>\n",
       "      <td>1970</td>\n",
       "      <td>Graduation</td>\n",
       "      <td>Divorced</td>\n",
       "      <td>84835.0</td>\n",
       "      <td>0</td>\n",
       "      <td>0</td>\n",
       "      <td>2014-06-16</td>\n",
       "      <td>0</td>\n",
       "      <td>189</td>\n",
       "      <td>104</td>\n",
       "      <td>379</td>\n",
       "      <td>111</td>\n",
       "      <td>189</td>\n",
       "      <td>218</td>\n",
       "      <td>1</td>\n",
       "      <td>4</td>\n",
       "      <td>4</td>\n",
       "      <td>6</td>\n",
       "      <td>1</td>\n",
       "      <td>0</td>\n",
       "      <td>0</td>\n",
       "      <td>0</td>\n",
       "      <td>0</td>\n",
       "      <td>0</td>\n",
       "      <td>1</td>\n",
       "      <td>0</td>\n",
       "      <td>Spain</td>\n",
       "      <td>1</td>\n",
       "      <td>1190</td>\n",
       "      <td>15</td>\n",
       "      <td>2</td>\n",
       "      <td>0</td>\n",
       "      <td>2</td>\n",
       "      <td>102</td>\n",
       "      <td>Potential Loyalists</td>\n",
       "      <td>Recent Customer - Moderate Buyer - High Spending</td>\n",
       "    </tr>\n",
       "    <tr>\n",
       "      <th>1</th>\n",
       "      <td>1</td>\n",
       "      <td>1961</td>\n",
       "      <td>Graduation</td>\n",
       "      <td>Single</td>\n",
       "      <td>57091.0</td>\n",
       "      <td>0</td>\n",
       "      <td>0</td>\n",
       "      <td>2014-06-15</td>\n",
       "      <td>0</td>\n",
       "      <td>464</td>\n",
       "      <td>5</td>\n",
       "      <td>64</td>\n",
       "      <td>7</td>\n",
       "      <td>0</td>\n",
       "      <td>37</td>\n",
       "      <td>1</td>\n",
       "      <td>7</td>\n",
       "      <td>3</td>\n",
       "      <td>7</td>\n",
       "      <td>5</td>\n",
       "      <td>0</td>\n",
       "      <td>0</td>\n",
       "      <td>0</td>\n",
       "      <td>0</td>\n",
       "      <td>1</td>\n",
       "      <td>1</td>\n",
       "      <td>0</td>\n",
       "      <td>Canada</td>\n",
       "      <td>1</td>\n",
       "      <td>577</td>\n",
       "      <td>18</td>\n",
       "      <td>0</td>\n",
       "      <td>0</td>\n",
       "      <td>0</td>\n",
       "      <td>100</td>\n",
       "      <td>Potential Loyalists</td>\n",
       "      <td>Recent Customer - Moderate Buyer - Low Spending</td>\n",
       "    </tr>\n",
       "    <tr>\n",
       "      <th>2</th>\n",
       "      <td>10476</td>\n",
       "      <td>1958</td>\n",
       "      <td>Graduation</td>\n",
       "      <td>Married</td>\n",
       "      <td>67267.0</td>\n",
       "      <td>0</td>\n",
       "      <td>1</td>\n",
       "      <td>2014-05-13</td>\n",
       "      <td>0</td>\n",
       "      <td>134</td>\n",
       "      <td>11</td>\n",
       "      <td>59</td>\n",
       "      <td>15</td>\n",
       "      <td>2</td>\n",
       "      <td>30</td>\n",
       "      <td>1</td>\n",
       "      <td>3</td>\n",
       "      <td>2</td>\n",
       "      <td>5</td>\n",
       "      <td>2</td>\n",
       "      <td>0</td>\n",
       "      <td>0</td>\n",
       "      <td>0</td>\n",
       "      <td>0</td>\n",
       "      <td>0</td>\n",
       "      <td>0</td>\n",
       "      <td>0</td>\n",
       "      <td>USA</td>\n",
       "      <td>1</td>\n",
       "      <td>251</td>\n",
       "      <td>11</td>\n",
       "      <td>0</td>\n",
       "      <td>0</td>\n",
       "      <td>0</td>\n",
       "      <td>100</td>\n",
       "      <td>Potential Loyalists</td>\n",
       "      <td>Recent Customer - Moderate Buyer - Low Spending</td>\n",
       "    </tr>\n",
       "    <tr>\n",
       "      <th>3</th>\n",
       "      <td>1386</td>\n",
       "      <td>1967</td>\n",
       "      <td>Graduation</td>\n",
       "      <td>Together</td>\n",
       "      <td>32474.0</td>\n",
       "      <td>1</td>\n",
       "      <td>1</td>\n",
       "      <td>2014-05-11</td>\n",
       "      <td>0</td>\n",
       "      <td>10</td>\n",
       "      <td>0</td>\n",
       "      <td>1</td>\n",
       "      <td>0</td>\n",
       "      <td>0</td>\n",
       "      <td>0</td>\n",
       "      <td>1</td>\n",
       "      <td>1</td>\n",
       "      <td>0</td>\n",
       "      <td>2</td>\n",
       "      <td>7</td>\n",
       "      <td>0</td>\n",
       "      <td>0</td>\n",
       "      <td>0</td>\n",
       "      <td>0</td>\n",
       "      <td>0</td>\n",
       "      <td>0</td>\n",
       "      <td>0</td>\n",
       "      <td>Australia</td>\n",
       "      <td>1</td>\n",
       "      <td>11</td>\n",
       "      <td>4</td>\n",
       "      <td>0</td>\n",
       "      <td>2</td>\n",
       "      <td>0</td>\n",
       "      <td>120</td>\n",
       "      <td>Potential Loyalists</td>\n",
       "      <td>Recent Customer - Least Buying - Low Spending</td>\n",
       "    </tr>\n",
       "    <tr>\n",
       "      <th>4</th>\n",
       "      <td>5371</td>\n",
       "      <td>1989</td>\n",
       "      <td>Graduation</td>\n",
       "      <td>Single</td>\n",
       "      <td>21474.0</td>\n",
       "      <td>1</td>\n",
       "      <td>0</td>\n",
       "      <td>2014-04-08</td>\n",
       "      <td>0</td>\n",
       "      <td>6</td>\n",
       "      <td>16</td>\n",
       "      <td>24</td>\n",
       "      <td>11</td>\n",
       "      <td>0</td>\n",
       "      <td>34</td>\n",
       "      <td>2</td>\n",
       "      <td>3</td>\n",
       "      <td>1</td>\n",
       "      <td>2</td>\n",
       "      <td>7</td>\n",
       "      <td>1</td>\n",
       "      <td>0</td>\n",
       "      <td>0</td>\n",
       "      <td>0</td>\n",
       "      <td>0</td>\n",
       "      <td>1</td>\n",
       "      <td>0</td>\n",
       "      <td>Spain</td>\n",
       "      <td>1</td>\n",
       "      <td>91</td>\n",
       "      <td>8</td>\n",
       "      <td>0</td>\n",
       "      <td>2</td>\n",
       "      <td>0</td>\n",
       "      <td>120</td>\n",
       "      <td>Potential Loyalists</td>\n",
       "      <td>Recent Customer - Least Buying - Low Spending</td>\n",
       "    </tr>\n",
       "    <tr>\n",
       "      <th>...</th>\n",
       "      <td>...</td>\n",
       "      <td>...</td>\n",
       "      <td>...</td>\n",
       "      <td>...</td>\n",
       "      <td>...</td>\n",
       "      <td>...</td>\n",
       "      <td>...</td>\n",
       "      <td>...</td>\n",
       "      <td>...</td>\n",
       "      <td>...</td>\n",
       "      <td>...</td>\n",
       "      <td>...</td>\n",
       "      <td>...</td>\n",
       "      <td>...</td>\n",
       "      <td>...</td>\n",
       "      <td>...</td>\n",
       "      <td>...</td>\n",
       "      <td>...</td>\n",
       "      <td>...</td>\n",
       "      <td>...</td>\n",
       "      <td>...</td>\n",
       "      <td>...</td>\n",
       "      <td>...</td>\n",
       "      <td>...</td>\n",
       "      <td>...</td>\n",
       "      <td>...</td>\n",
       "      <td>...</td>\n",
       "      <td>...</td>\n",
       "      <td>...</td>\n",
       "      <td>...</td>\n",
       "      <td>...</td>\n",
       "      <td>...</td>\n",
       "      <td>...</td>\n",
       "      <td>...</td>\n",
       "      <td>...</td>\n",
       "      <td>...</td>\n",
       "      <td>...</td>\n",
       "    </tr>\n",
       "    <tr>\n",
       "      <th>2235</th>\n",
       "      <td>10142</td>\n",
       "      <td>1976</td>\n",
       "      <td>PhD</td>\n",
       "      <td>Divorced</td>\n",
       "      <td>66476.0</td>\n",
       "      <td>0</td>\n",
       "      <td>1</td>\n",
       "      <td>2013-03-07</td>\n",
       "      <td>99</td>\n",
       "      <td>372</td>\n",
       "      <td>18</td>\n",
       "      <td>126</td>\n",
       "      <td>47</td>\n",
       "      <td>48</td>\n",
       "      <td>78</td>\n",
       "      <td>2</td>\n",
       "      <td>5</td>\n",
       "      <td>2</td>\n",
       "      <td>11</td>\n",
       "      <td>4</td>\n",
       "      <td>0</td>\n",
       "      <td>0</td>\n",
       "      <td>0</td>\n",
       "      <td>0</td>\n",
       "      <td>0</td>\n",
       "      <td>0</td>\n",
       "      <td>0</td>\n",
       "      <td>USA</td>\n",
       "      <td>3</td>\n",
       "      <td>689</td>\n",
       "      <td>20</td>\n",
       "      <td>1</td>\n",
       "      <td>1</td>\n",
       "      <td>1</td>\n",
       "      <td>311</td>\n",
       "      <td>Needs Attention</td>\n",
       "      <td>Least Recent - Best Buyer (Web) - Moderate Spending</td>\n",
       "    </tr>\n",
       "    <tr>\n",
       "      <th>2236</th>\n",
       "      <td>5263</td>\n",
       "      <td>1977</td>\n",
       "      <td>2n Cycle</td>\n",
       "      <td>Married</td>\n",
       "      <td>31056.0</td>\n",
       "      <td>1</td>\n",
       "      <td>0</td>\n",
       "      <td>2013-01-22</td>\n",
       "      <td>99</td>\n",
       "      <td>5</td>\n",
       "      <td>10</td>\n",
       "      <td>13</td>\n",
       "      <td>3</td>\n",
       "      <td>8</td>\n",
       "      <td>16</td>\n",
       "      <td>1</td>\n",
       "      <td>1</td>\n",
       "      <td>0</td>\n",
       "      <td>3</td>\n",
       "      <td>8</td>\n",
       "      <td>0</td>\n",
       "      <td>0</td>\n",
       "      <td>0</td>\n",
       "      <td>0</td>\n",
       "      <td>0</td>\n",
       "      <td>0</td>\n",
       "      <td>0</td>\n",
       "      <td>Spain</td>\n",
       "      <td>3</td>\n",
       "      <td>55</td>\n",
       "      <td>5</td>\n",
       "      <td>0</td>\n",
       "      <td>2</td>\n",
       "      <td>0</td>\n",
       "      <td>320</td>\n",
       "      <td>Needs Attention</td>\n",
       "      <td>Least Recent - Least Buying - Low Spending</td>\n",
       "    </tr>\n",
       "    <tr>\n",
       "      <th>2237</th>\n",
       "      <td>22</td>\n",
       "      <td>1976</td>\n",
       "      <td>Graduation</td>\n",
       "      <td>Divorced</td>\n",
       "      <td>46310.0</td>\n",
       "      <td>1</td>\n",
       "      <td>0</td>\n",
       "      <td>2012-12-03</td>\n",
       "      <td>99</td>\n",
       "      <td>185</td>\n",
       "      <td>2</td>\n",
       "      <td>88</td>\n",
       "      <td>15</td>\n",
       "      <td>5</td>\n",
       "      <td>14</td>\n",
       "      <td>2</td>\n",
       "      <td>6</td>\n",
       "      <td>1</td>\n",
       "      <td>5</td>\n",
       "      <td>8</td>\n",
       "      <td>0</td>\n",
       "      <td>0</td>\n",
       "      <td>0</td>\n",
       "      <td>0</td>\n",
       "      <td>0</td>\n",
       "      <td>0</td>\n",
       "      <td>0</td>\n",
       "      <td>Spain</td>\n",
       "      <td>3</td>\n",
       "      <td>309</td>\n",
       "      <td>14</td>\n",
       "      <td>0</td>\n",
       "      <td>0</td>\n",
       "      <td>0</td>\n",
       "      <td>300</td>\n",
       "      <td>Needs Attention</td>\n",
       "      <td>Least Recent - Moderate Buyer - Low Spending</td>\n",
       "    </tr>\n",
       "    <tr>\n",
       "      <th>2238</th>\n",
       "      <td>528</td>\n",
       "      <td>1978</td>\n",
       "      <td>Graduation</td>\n",
       "      <td>Married</td>\n",
       "      <td>65819.0</td>\n",
       "      <td>0</td>\n",
       "      <td>0</td>\n",
       "      <td>2012-11-29</td>\n",
       "      <td>99</td>\n",
       "      <td>267</td>\n",
       "      <td>38</td>\n",
       "      <td>701</td>\n",
       "      <td>149</td>\n",
       "      <td>165</td>\n",
       "      <td>63</td>\n",
       "      <td>1</td>\n",
       "      <td>5</td>\n",
       "      <td>4</td>\n",
       "      <td>10</td>\n",
       "      <td>3</td>\n",
       "      <td>0</td>\n",
       "      <td>0</td>\n",
       "      <td>0</td>\n",
       "      <td>0</td>\n",
       "      <td>0</td>\n",
       "      <td>0</td>\n",
       "      <td>0</td>\n",
       "      <td>India</td>\n",
       "      <td>3</td>\n",
       "      <td>1383</td>\n",
       "      <td>20</td>\n",
       "      <td>2</td>\n",
       "      <td>1</td>\n",
       "      <td>2</td>\n",
       "      <td>312</td>\n",
       "      <td>Needs Attention</td>\n",
       "      <td>Least Recent - Best Buyer (Web) - High Spending</td>\n",
       "    </tr>\n",
       "    <tr>\n",
       "      <th>2239</th>\n",
       "      <td>4070</td>\n",
       "      <td>1969</td>\n",
       "      <td>PhD</td>\n",
       "      <td>Married</td>\n",
       "      <td>94871.0</td>\n",
       "      <td>0</td>\n",
       "      <td>2</td>\n",
       "      <td>2012-09-01</td>\n",
       "      <td>99</td>\n",
       "      <td>169</td>\n",
       "      <td>24</td>\n",
       "      <td>553</td>\n",
       "      <td>188</td>\n",
       "      <td>0</td>\n",
       "      <td>144</td>\n",
       "      <td>1</td>\n",
       "      <td>8</td>\n",
       "      <td>5</td>\n",
       "      <td>4</td>\n",
       "      <td>7</td>\n",
       "      <td>0</td>\n",
       "      <td>1</td>\n",
       "      <td>1</td>\n",
       "      <td>0</td>\n",
       "      <td>0</td>\n",
       "      <td>1</td>\n",
       "      <td>0</td>\n",
       "      <td>Canada</td>\n",
       "      <td>3</td>\n",
       "      <td>1078</td>\n",
       "      <td>18</td>\n",
       "      <td>2</td>\n",
       "      <td>0</td>\n",
       "      <td>2</td>\n",
       "      <td>302</td>\n",
       "      <td>Needs Attention</td>\n",
       "      <td>Least Recent - Moderate Buyer - High Spending</td>\n",
       "    </tr>\n",
       "  </tbody>\n",
       "</table>\n",
       "<p>2216 rows × 37 columns</p>\n",
       "</div>"
      ],
      "text/plain": [
       "         ID  Year_Birth   Education Marital_Status   Income   Kidhome  \\\n",
       "0      1826        1970  Graduation       Divorced   84835.0        0   \n",
       "1         1        1961  Graduation         Single   57091.0        0   \n",
       "2     10476        1958  Graduation        Married   67267.0        0   \n",
       "3      1386        1967  Graduation       Together   32474.0        1   \n",
       "4      5371        1989  Graduation         Single   21474.0        1   \n",
       "...     ...         ...         ...            ...       ...      ...   \n",
       "2235  10142        1976         PhD       Divorced   66476.0        0   \n",
       "2236   5263        1977    2n Cycle        Married   31056.0        1   \n",
       "2237     22        1976  Graduation       Divorced   46310.0        1   \n",
       "2238    528        1978  Graduation        Married   65819.0        0   \n",
       "2239   4070        1969         PhD        Married   94871.0        0   \n",
       "\n",
       "      Teenhome Dt_Customer  Recency  MntWines  MntFruits  MntMeatProducts  \\\n",
       "0            0  2014-06-16        0       189        104              379   \n",
       "1            0  2014-06-15        0       464          5               64   \n",
       "2            1  2014-05-13        0       134         11               59   \n",
       "3            1  2014-05-11        0        10          0                1   \n",
       "4            0  2014-04-08        0         6         16               24   \n",
       "...        ...         ...      ...       ...        ...              ...   \n",
       "2235         1  2013-03-07       99       372         18              126   \n",
       "2236         0  2013-01-22       99         5         10               13   \n",
       "2237         0  2012-12-03       99       185          2               88   \n",
       "2238         0  2012-11-29       99       267         38              701   \n",
       "2239         2  2012-09-01       99       169         24              553   \n",
       "\n",
       "      MntFishProducts  MntSweetProducts  MntGoldProds  NumDealsPurchases  \\\n",
       "0                 111               189           218                  1   \n",
       "1                   7                 0            37                  1   \n",
       "2                  15                 2            30                  1   \n",
       "3                   0                 0             0                  1   \n",
       "4                  11                 0            34                  2   \n",
       "...               ...               ...           ...                ...   \n",
       "2235               47                48            78                  2   \n",
       "2236                3                 8            16                  1   \n",
       "2237               15                 5            14                  2   \n",
       "2238              149               165            63                  1   \n",
       "2239              188                 0           144                  1   \n",
       "\n",
       "      NumWebPurchases  NumCatalogPurchases  NumStorePurchases  \\\n",
       "0                   4                    4                  6   \n",
       "1                   7                    3                  7   \n",
       "2                   3                    2                  5   \n",
       "3                   1                    0                  2   \n",
       "4                   3                    1                  2   \n",
       "...               ...                  ...                ...   \n",
       "2235                5                    2                 11   \n",
       "2236                1                    0                  3   \n",
       "2237                6                    1                  5   \n",
       "2238                5                    4                 10   \n",
       "2239                8                    5                  4   \n",
       "\n",
       "      NumWebVisitsMonth  AcceptedCmp3  AcceptedCmp4  AcceptedCmp5  \\\n",
       "0                     1             0             0             0   \n",
       "1                     5             0             0             0   \n",
       "2                     2             0             0             0   \n",
       "3                     7             0             0             0   \n",
       "4                     7             1             0             0   \n",
       "...                 ...           ...           ...           ...   \n",
       "2235                  4             0             0             0   \n",
       "2236                  8             0             0             0   \n",
       "2237                  8             0             0             0   \n",
       "2238                  3             0             0             0   \n",
       "2239                  7             0             1             1   \n",
       "\n",
       "      AcceptedCmp1  AcceptedCmp2  Response  Complain    Country  \\\n",
       "0                0             0         1         0      Spain   \n",
       "1                0             1         1         0     Canada   \n",
       "2                0             0         0         0        USA   \n",
       "3                0             0         0         0  Australia   \n",
       "4                0             0         1         0      Spain   \n",
       "...            ...           ...       ...       ...        ...   \n",
       "2235             0             0         0         0        USA   \n",
       "2236             0             0         0         0      Spain   \n",
       "2237             0             0         0         0      Spain   \n",
       "2238             0             0         0         0      India   \n",
       "2239             0             0         1         0     Canada   \n",
       "\n",
       "      Recency_binned  Monetary  Frequency_Purchase  Cluster  \\\n",
       "0                  1      1190                  15        2   \n",
       "1                  1       577                  18        0   \n",
       "2                  1       251                  11        0   \n",
       "3                  1        11                   4        0   \n",
       "4                  1        91                   8        0   \n",
       "...              ...       ...                 ...      ...   \n",
       "2235               3       689                  20        1   \n",
       "2236               3        55                   5        0   \n",
       "2237               3       309                  14        0   \n",
       "2238               3      1383                  20        2   \n",
       "2239               3      1078                  18        2   \n",
       "\n",
       "      Frequency_Clustering  Monetary_Clustering RFM_Score  \\\n",
       "0                        0                    2       102   \n",
       "1                        0                    0       100   \n",
       "2                        0                    0       100   \n",
       "3                        2                    0       120   \n",
       "4                        2                    0       120   \n",
       "...                    ...                  ...       ...   \n",
       "2235                     1                    1       311   \n",
       "2236                     2                    0       320   \n",
       "2237                     0                    0       300   \n",
       "2238                     1                    2       312   \n",
       "2239                     0                    2       302   \n",
       "\n",
       "                  Segment                                     Customer_Profile  \n",
       "0     Potential Loyalists     Recent Customer - Moderate Buyer - High Spending  \n",
       "1     Potential Loyalists      Recent Customer - Moderate Buyer - Low Spending  \n",
       "2     Potential Loyalists      Recent Customer - Moderate Buyer - Low Spending  \n",
       "3     Potential Loyalists        Recent Customer - Least Buying - Low Spending  \n",
       "4     Potential Loyalists        Recent Customer - Least Buying - Low Spending  \n",
       "...                   ...                                                  ...  \n",
       "2235      Needs Attention  Least Recent - Best Buyer (Web) - Moderate Spending  \n",
       "2236      Needs Attention           Least Recent - Least Buying - Low Spending  \n",
       "2237      Needs Attention         Least Recent - Moderate Buyer - Low Spending  \n",
       "2238      Needs Attention      Least Recent - Best Buyer (Web) - High Spending  \n",
       "2239      Needs Attention        Least Recent - Moderate Buyer - High Spending  \n",
       "\n",
       "[2216 rows x 37 columns]"
      ]
     },
     "execution_count": 40,
     "metadata": {},
     "output_type": "execute_result"
    }
   ],
   "source": [
    "df"
   ]
  },
  {
   "cell_type": "code",
   "execution_count": 41,
   "metadata": {
    "id": "kJ_29JcSkqZE"
   },
   "outputs": [
    {
     "ename": "KeyError",
     "evalue": "\"['Households'] not in index\"",
     "output_type": "error",
     "traceback": [
      "\u001b[1;31m---------------------------------------------------------------------------\u001b[0m",
      "\u001b[1;31mKeyError\u001b[0m                                  Traceback (most recent call last)",
      "Cell \u001b[1;32mIn[41], line 1\u001b[0m\n\u001b[1;32m----> 1\u001b[0m \u001b[43mdf\u001b[49m\u001b[43m[\u001b[49m\u001b[43m[\u001b[49m\u001b[38;5;124;43m'\u001b[39;49m\u001b[38;5;124;43mHouseholds\u001b[39;49m\u001b[38;5;124;43m'\u001b[39;49m\u001b[43m,\u001b[49m\u001b[38;5;124;43m'\u001b[39;49m\u001b[38;5;124;43mMntWines\u001b[39;49m\u001b[38;5;124;43m'\u001b[39;49m\u001b[43m,\u001b[49m\u001b[43m \u001b[49m\u001b[38;5;124;43m'\u001b[39;49m\u001b[38;5;124;43mMntFruits\u001b[39;49m\u001b[38;5;124;43m'\u001b[39;49m\u001b[43m,\u001b[49m\u001b[43m \u001b[49m\u001b[38;5;124;43m'\u001b[39;49m\u001b[38;5;124;43mMntMeatProducts\u001b[39;49m\u001b[38;5;124;43m'\u001b[39;49m\u001b[43m,\u001b[49m\u001b[38;5;124;43m'\u001b[39;49m\u001b[38;5;124;43mMntFishProducts\u001b[39;49m\u001b[38;5;124;43m'\u001b[39;49m\u001b[43m,\u001b[49m\u001b[43m \u001b[49m\u001b[38;5;124;43m'\u001b[39;49m\u001b[38;5;124;43mMntSweetProducts\u001b[39;49m\u001b[38;5;124;43m'\u001b[39;49m\u001b[43m,\u001b[49m\u001b[43m \u001b[49m\u001b[38;5;124;43m'\u001b[39;49m\u001b[38;5;124;43mMntGoldProds\u001b[39;49m\u001b[38;5;124;43m'\u001b[39;49m\u001b[43m]\u001b[49m\u001b[43m]\u001b[49m\u001b[38;5;241m.\u001b[39mgroupby([\u001b[38;5;124m\"\u001b[39m\u001b[38;5;124mHouseholds\u001b[39m\u001b[38;5;124m\"\u001b[39m])\u001b[38;5;241m.\u001b[39mmedian()\u001b[38;5;241m.\u001b[39mreset_index()\n",
      "File \u001b[1;32mc:\\Users\\Asem\\AppData\\Local\\Programs\\Python\\Python311\\Lib\\site-packages\\pandas\\core\\frame.py:3767\u001b[0m, in \u001b[0;36mDataFrame.__getitem__\u001b[1;34m(self, key)\u001b[0m\n\u001b[0;32m   3765\u001b[0m     \u001b[38;5;28;01mif\u001b[39;00m is_iterator(key):\n\u001b[0;32m   3766\u001b[0m         key \u001b[38;5;241m=\u001b[39m \u001b[38;5;28mlist\u001b[39m(key)\n\u001b[1;32m-> 3767\u001b[0m     indexer \u001b[38;5;241m=\u001b[39m \u001b[38;5;28;43mself\u001b[39;49m\u001b[38;5;241;43m.\u001b[39;49m\u001b[43mcolumns\u001b[49m\u001b[38;5;241;43m.\u001b[39;49m\u001b[43m_get_indexer_strict\u001b[49m\u001b[43m(\u001b[49m\u001b[43mkey\u001b[49m\u001b[43m,\u001b[49m\u001b[43m \u001b[49m\u001b[38;5;124;43m\"\u001b[39;49m\u001b[38;5;124;43mcolumns\u001b[39;49m\u001b[38;5;124;43m\"\u001b[39;49m\u001b[43m)\u001b[49m[\u001b[38;5;241m1\u001b[39m]\n\u001b[0;32m   3769\u001b[0m \u001b[38;5;66;03m# take() does not accept boolean indexers\u001b[39;00m\n\u001b[0;32m   3770\u001b[0m \u001b[38;5;28;01mif\u001b[39;00m \u001b[38;5;28mgetattr\u001b[39m(indexer, \u001b[38;5;124m\"\u001b[39m\u001b[38;5;124mdtype\u001b[39m\u001b[38;5;124m\"\u001b[39m, \u001b[38;5;28;01mNone\u001b[39;00m) \u001b[38;5;241m==\u001b[39m \u001b[38;5;28mbool\u001b[39m:\n",
      "File \u001b[1;32mc:\\Users\\Asem\\AppData\\Local\\Programs\\Python\\Python311\\Lib\\site-packages\\pandas\\core\\indexes\\base.py:5877\u001b[0m, in \u001b[0;36mIndex._get_indexer_strict\u001b[1;34m(self, key, axis_name)\u001b[0m\n\u001b[0;32m   5874\u001b[0m \u001b[38;5;28;01melse\u001b[39;00m:\n\u001b[0;32m   5875\u001b[0m     keyarr, indexer, new_indexer \u001b[38;5;241m=\u001b[39m \u001b[38;5;28mself\u001b[39m\u001b[38;5;241m.\u001b[39m_reindex_non_unique(keyarr)\n\u001b[1;32m-> 5877\u001b[0m \u001b[38;5;28;43mself\u001b[39;49m\u001b[38;5;241;43m.\u001b[39;49m\u001b[43m_raise_if_missing\u001b[49m\u001b[43m(\u001b[49m\u001b[43mkeyarr\u001b[49m\u001b[43m,\u001b[49m\u001b[43m \u001b[49m\u001b[43mindexer\u001b[49m\u001b[43m,\u001b[49m\u001b[43m \u001b[49m\u001b[43maxis_name\u001b[49m\u001b[43m)\u001b[49m\n\u001b[0;32m   5879\u001b[0m keyarr \u001b[38;5;241m=\u001b[39m \u001b[38;5;28mself\u001b[39m\u001b[38;5;241m.\u001b[39mtake(indexer)\n\u001b[0;32m   5880\u001b[0m \u001b[38;5;28;01mif\u001b[39;00m \u001b[38;5;28misinstance\u001b[39m(key, Index):\n\u001b[0;32m   5881\u001b[0m     \u001b[38;5;66;03m# GH 42790 - Preserve name from an Index\u001b[39;00m\n",
      "File \u001b[1;32mc:\\Users\\Asem\\AppData\\Local\\Programs\\Python\\Python311\\Lib\\site-packages\\pandas\\core\\indexes\\base.py:5941\u001b[0m, in \u001b[0;36mIndex._raise_if_missing\u001b[1;34m(self, key, indexer, axis_name)\u001b[0m\n\u001b[0;32m   5938\u001b[0m     \u001b[38;5;28;01mraise\u001b[39;00m \u001b[38;5;167;01mKeyError\u001b[39;00m(\u001b[38;5;124mf\u001b[39m\u001b[38;5;124m\"\u001b[39m\u001b[38;5;124mNone of [\u001b[39m\u001b[38;5;132;01m{\u001b[39;00mkey\u001b[38;5;132;01m}\u001b[39;00m\u001b[38;5;124m] are in the [\u001b[39m\u001b[38;5;132;01m{\u001b[39;00maxis_name\u001b[38;5;132;01m}\u001b[39;00m\u001b[38;5;124m]\u001b[39m\u001b[38;5;124m\"\u001b[39m)\n\u001b[0;32m   5940\u001b[0m not_found \u001b[38;5;241m=\u001b[39m \u001b[38;5;28mlist\u001b[39m(ensure_index(key)[missing_mask\u001b[38;5;241m.\u001b[39mnonzero()[\u001b[38;5;241m0\u001b[39m]]\u001b[38;5;241m.\u001b[39munique())\n\u001b[1;32m-> 5941\u001b[0m \u001b[38;5;28;01mraise\u001b[39;00m \u001b[38;5;167;01mKeyError\u001b[39;00m(\u001b[38;5;124mf\u001b[39m\u001b[38;5;124m\"\u001b[39m\u001b[38;5;132;01m{\u001b[39;00mnot_found\u001b[38;5;132;01m}\u001b[39;00m\u001b[38;5;124m not in index\u001b[39m\u001b[38;5;124m\"\u001b[39m)\n",
      "\u001b[1;31mKeyError\u001b[0m: \"['Households'] not in index\""
     ]
    }
   ],
   "source": [
    "df[['Households','MntWines', 'MntFruits', 'MntMeatProducts','MntFishProducts', 'MntSweetProducts', 'MntGoldProds']].groupby([\"Households\"]).median().reset_index()"
   ]
  },
  {
   "cell_type": "code",
   "execution_count": null,
   "metadata": {
    "id": "WhqKVUID4taw"
   },
   "outputs": [],
   "source": []
  },
  {
   "cell_type": "code",
   "execution_count": null,
   "metadata": {
    "id": "JzMP_2xGip18"
   },
   "outputs": [],
   "source": [
    "df_grouped = df[['Kidhome','MntWines', 'MntFruits', 'MntMeatProducts','MntFishProducts', 'MntSweetProducts', 'MntGoldProds']].groupby(\"Kidhome\").mean().reset_index()\n",
    "\n",
    "fig = px.parallel_coordinates(df_grouped, color=\"Kidhome\",\n",
    "                              dimensions=['MntWines', 'MntFruits', 'MntMeatProducts',\n",
    "                                          'MntFishProducts', 'MntSweetProducts', 'MntGoldProds'],\n",
    "                              color_continuous_scale=px.colors.diverging.Tealrose,\n",
    "                              color_continuous_midpoint=2)\n",
    "fig.show()"
   ]
  },
  {
   "cell_type": "markdown",
   "metadata": {
    "id": "OlvDmPxRUlhz"
   },
   "source": [
    "### Maps for Amount of Product Categories Purchased"
   ]
  },
  {
   "cell_type": "code",
   "execution_count": null,
   "metadata": {
    "id": "OyhzHPP_UyM7"
   },
   "outputs": [],
   "source": [
    "df_group_map = df[[\"Country\", 'MntWines', 'MntFruits', 'MntMeatProducts','MntFishProducts', 'MntSweetProducts', 'MntGoldProds']].groupby(\"Country\").median().reset_index()"
   ]
  },
  {
   "cell_type": "code",
   "execution_count": null,
   "metadata": {
    "id": "3tOZ5H-Pj2N9"
   },
   "outputs": [],
   "source": [
    "columns = ['MntWines', 'MntFruits', 'MntMeatProducts','MntFishProducts', 'MntSweetProducts', 'MntGoldProds']\n",
    "\n",
    "for column in columns:\n",
    "  fig = px.scatter_geo(df_group_map, locations=\"Country\", locationmode=\"country names\",\n",
    "                     size=column,\n",
    "                     projection=\"natural earth\",\n",
    "                     title=f\"Bubble Chart for Selected Countries and {column}\")\n",
    "\n",
    "  fig.show()"
   ]
  }
 ],
 "metadata": {
  "colab": {
   "provenance": []
  },
  "kernelspec": {
   "display_name": "Python 3",
   "name": "python3"
  },
  "language_info": {
   "codemirror_mode": {
    "name": "ipython",
    "version": 3
   },
   "file_extension": ".py",
   "mimetype": "text/x-python",
   "name": "python",
   "nbconvert_exporter": "python",
   "pygments_lexer": "ipython3",
   "version": "3.11.9"
  }
 },
 "nbformat": 4,
 "nbformat_minor": 0
}
